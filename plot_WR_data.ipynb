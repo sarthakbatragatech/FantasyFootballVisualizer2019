{
 "cells": [
  {
   "cell_type": "code",
   "execution_count": 1,
   "metadata": {},
   "outputs": [
    {
     "data": {
      "text/plain": [
       "ThemeRegistry.enable('opaque')"
      ]
     },
     "execution_count": 1,
     "metadata": {},
     "output_type": "execute_result"
    }
   ],
   "source": [
    "import pandas as pd\n",
    "import altair as alt\n",
    "\n",
    "alt.themes.enable('opaque')"
   ]
  },
  {
   "cell_type": "code",
   "execution_count": 2,
   "metadata": {},
   "outputs": [],
   "source": [
    "position = 'WR'\n",
    "week = '1'\n",
    "PATH = 'data/week' + week + '/' + position + '/'"
   ]
  },
  {
   "cell_type": "code",
   "execution_count": 3,
   "metadata": {},
   "outputs": [
    {
     "data": {
      "text/html": [
       "<div>\n",
       "<style scoped>\n",
       "    .dataframe tbody tr th:only-of-type {\n",
       "        vertical-align: middle;\n",
       "    }\n",
       "\n",
       "    .dataframe tbody tr th {\n",
       "        vertical-align: top;\n",
       "    }\n",
       "\n",
       "    .dataframe thead th {\n",
       "        text-align: right;\n",
       "    }\n",
       "</style>\n",
       "<table border=\"1\" class=\"dataframe\">\n",
       "  <thead>\n",
       "    <tr style=\"text-align: right;\">\n",
       "      <th></th>\n",
       "      <th>Player</th>\n",
       "      <th>Team</th>\n",
       "      <th>Games</th>\n",
       "      <th>Targets</th>\n",
       "      <th>Receptions</th>\n",
       "      <th>ReceivingYards</th>\n",
       "      <th>ReceivingTD</th>\n",
       "      <th>Attempts</th>\n",
       "      <th>RushingYards</th>\n",
       "      <th>RushingTD</th>\n",
       "      <th>FantasyPoints</th>\n",
       "      <th>FantasyPointsPerGame</th>\n",
       "    </tr>\n",
       "  </thead>\n",
       "  <tbody>\n",
       "    <tr>\n",
       "      <td>0</td>\n",
       "      <td>Sammy Watkins</td>\n",
       "      <td>KC</td>\n",
       "      <td>1</td>\n",
       "      <td>11</td>\n",
       "      <td>9</td>\n",
       "      <td>198</td>\n",
       "      <td>3</td>\n",
       "      <td>0</td>\n",
       "      <td>0</td>\n",
       "      <td>0</td>\n",
       "      <td>42.3</td>\n",
       "      <td>42.3</td>\n",
       "    </tr>\n",
       "    <tr>\n",
       "      <td>1</td>\n",
       "      <td>DeSean Jackson</td>\n",
       "      <td>PHI</td>\n",
       "      <td>1</td>\n",
       "      <td>10</td>\n",
       "      <td>8</td>\n",
       "      <td>154</td>\n",
       "      <td>2</td>\n",
       "      <td>0</td>\n",
       "      <td>0</td>\n",
       "      <td>0</td>\n",
       "      <td>31.4</td>\n",
       "      <td>31.4</td>\n",
       "    </tr>\n",
       "    <tr>\n",
       "      <td>2</td>\n",
       "      <td>John Ross</td>\n",
       "      <td>CIN</td>\n",
       "      <td>1</td>\n",
       "      <td>12</td>\n",
       "      <td>7</td>\n",
       "      <td>158</td>\n",
       "      <td>2</td>\n",
       "      <td>0</td>\n",
       "      <td>0</td>\n",
       "      <td>0</td>\n",
       "      <td>31.3</td>\n",
       "      <td>31.3</td>\n",
       "    </tr>\n",
       "    <tr>\n",
       "      <td>3</td>\n",
       "      <td>Marquise Brown</td>\n",
       "      <td>BAL</td>\n",
       "      <td>1</td>\n",
       "      <td>5</td>\n",
       "      <td>4</td>\n",
       "      <td>147</td>\n",
       "      <td>2</td>\n",
       "      <td>0</td>\n",
       "      <td>0</td>\n",
       "      <td>0</td>\n",
       "      <td>28.7</td>\n",
       "      <td>28.7</td>\n",
       "    </tr>\n",
       "    <tr>\n",
       "      <td>4</td>\n",
       "      <td>DeAndre Hopkins</td>\n",
       "      <td>HOU</td>\n",
       "      <td>1</td>\n",
       "      <td>13</td>\n",
       "      <td>8</td>\n",
       "      <td>111</td>\n",
       "      <td>2</td>\n",
       "      <td>0</td>\n",
       "      <td>0</td>\n",
       "      <td>0</td>\n",
       "      <td>27.1</td>\n",
       "      <td>27.1</td>\n",
       "    </tr>\n",
       "  </tbody>\n",
       "</table>\n",
       "</div>"
      ],
      "text/plain": [
       "            Player Team  Games  Targets  Receptions  ReceivingYards  \\\n",
       "0    Sammy Watkins   KC      1       11           9             198   \n",
       "1   DeSean Jackson  PHI      1       10           8             154   \n",
       "2        John Ross  CIN      1       12           7             158   \n",
       "3   Marquise Brown  BAL      1        5           4             147   \n",
       "4  DeAndre Hopkins  HOU      1       13           8             111   \n",
       "\n",
       "   ReceivingTD  Attempts  RushingYards  RushingTD  FantasyPoints  \\\n",
       "0            3         0             0          0           42.3   \n",
       "1            2         0             0          0           31.4   \n",
       "2            2         0             0          0           31.3   \n",
       "3            2         0             0          0           28.7   \n",
       "4            2         0             0          0           27.1   \n",
       "\n",
       "   FantasyPointsPerGame  \n",
       "0                  42.3  \n",
       "1                  31.4  \n",
       "2                  31.3  \n",
       "3                  28.7  \n",
       "4                  27.1  "
      ]
     },
     "execution_count": 3,
     "metadata": {},
     "output_type": "execute_result"
    }
   ],
   "source": [
    "df = pd.read_csv(PATH + position + '.csv')\n",
    "df.head()"
   ]
  },
  {
   "cell_type": "code",
   "execution_count": 4,
   "metadata": {},
   "outputs": [],
   "source": [
    "data = df[['Player', 'Team', 'Targets', 'Receptions', 'ReceivingYards', 'FantasyPoints']].copy()"
   ]
  },
  {
   "cell_type": "code",
   "execution_count": 5,
   "metadata": {},
   "outputs": [
    {
     "data": {
      "text/plain": [
       "['ARI', 'ATL', 'BAL', 'BUF', 'CAR']"
      ]
     },
     "execution_count": 5,
     "metadata": {},
     "output_type": "execute_result"
    }
   ],
   "source": [
    "# Create sorted list of teams in dataframe\n",
    "# Data is defined below, above charts\n",
    "teams = sorted((data['Team'].unique()))\n",
    "teams[:5]"
   ]
  },
  {
   "cell_type": "code",
   "execution_count": 6,
   "metadata": {},
   "outputs": [],
   "source": [
    "# Create list of all 32 teams\n",
    "all_teams = ['ARI', 'ATL', 'BAL', 'BUF',\n",
    "             'CAR', 'CHI', 'CIN', 'CLE',\n",
    "             'DAL', 'DEN', 'DET', 'GB',\n",
    "             'HOU', 'IND', 'JAC', 'KC', \n",
    "             'LAC', 'LAR', 'MIA', 'MIN', \n",
    "             'NE', 'NO', 'NYG', 'NYJ', \n",
    "             'OAK', 'PHI', 'PIT', 'SEA',\n",
    "             'SF', 'TB', 'TEN', 'WAS']"
   ]
  },
  {
   "cell_type": "code",
   "execution_count": 7,
   "metadata": {},
   "outputs": [
    {
     "data": {
      "text/plain": [
       "['GB']"
      ]
     },
     "execution_count": 7,
     "metadata": {},
     "output_type": "execute_result"
    }
   ],
   "source": [
    "# Sometimes a team can be missing, find which ones\n",
    "[team for team in all_teams if team not in teams]"
   ]
  },
  {
   "cell_type": "code",
   "execution_count": 8,
   "metadata": {},
   "outputs": [],
   "source": [
    "# Create list of team colors, comment colors for missing teams\n",
    "color_codes = [\n",
    "    '#97233F', #ARI\n",
    "    '#A71930', #ATL\n",
    "    '#241773', #BAL\n",
    "    '#00338D', #BUF\n",
    "    '#0085CA', #CAR\n",
    "    '#C83803', #CHI\n",
    "    '#FB4F14', #CIN\n",
    "    '#311D00', #CLE\n",
    "    '#869397', #DAL\n",
    "    '#FB4F14', #DEN\n",
    "    '#0076B6', #DET\n",
    "    # '#203731', #GB\n",
    "    '#03202F', #HOU\n",
    "    '#002C5F', #IND\n",
    "    '#006778', #JAC\n",
    "    '#E31837', #KC\n",
    "    '#FFC20E', #LAC\n",
    "    '#866D4B', #LAR\n",
    "    '#FC4C02', #MIA\n",
    "    '#4F2683', #MIN\n",
    "    '#002244', #NE\n",
    "    '#D3BC8D', #NO\n",
    "    '#0B2265', #NYG\n",
    "    '#125740', #NYJ\n",
    "    '#000000', #OAK\n",
    "    '#004C54', #PHI\n",
    "    '#FFB612', #PIT\n",
    "    '#69BE28', #SEA\n",
    "    '#AA0000', #SF\n",
    "    '#D50A0A', #TB\n",
    "    '#418FDE', #TEN\n",
    "    '#773141' #WAS\n",
    "]"
   ]
  },
  {
   "cell_type": "markdown",
   "metadata": {},
   "source": [
    "## Fantasy Points"
   ]
  },
  {
   "cell_type": "code",
   "execution_count": 9,
   "metadata": {},
   "outputs": [],
   "source": [
    "data = df[['Player', 'Team', 'FantasyPoints']].copy()"
   ]
  },
  {
   "cell_type": "code",
   "execution_count": 27,
   "metadata": {},
   "outputs": [],
   "source": [
    "chart = alt.Chart(data).mark_bar().encode(\n",
    "    alt.Y(\n",
    "        'FantasyPoints:Q',\n",
    "        axis = alt.Axis(title = 'Fantasy Points')\n",
    "    ),\n",
    "    alt.X(\n",
    "        'Player:N',\n",
    "        sort = alt.EncodingSortField(\n",
    "            field = 'FantasyPoints',\n",
    "            op = 'sum',\n",
    "            order = 'descending'\n",
    "          ),\n",
    "        axis = alt.Axis(title = '', labelAngle = -45)\n",
    "    ),\n",
    "    color = alt.Color(\n",
    "        'Team:N',\n",
    "        scale = alt.Scale(\n",
    "            domain = teams,\n",
    "            range = color_codes        \n",
    "        )\n",
    "    )\n",
    ").properties(title = 'Week 1: 0.5 PPR Fantasy Points by Wide Receivers')"
   ]
  },
  {
   "cell_type": "code",
   "execution_count": 28,
   "metadata": {},
   "outputs": [
    {
     "data": {
      "application/vnd.vegalite.v3+json": {
       "$schema": "https://vega.github.io/schema/vega-lite/v3.4.0.json",
       "config": {
        "background": "white",
        "mark": {
         "tooltip": null
        },
        "view": {
         "height": 300,
         "width": 400
        }
       },
       "data": {
        "name": "data-8104787203d7657fa20058d49b30dd6e"
       },
       "datasets": {
        "data-8104787203d7657fa20058d49b30dd6e": [
         {
          "FantasyPoints": 42.3,
          "Player": "Sammy Watkins",
          "Team": "KC"
         },
         {
          "FantasyPoints": 31.4,
          "Player": "DeSean Jackson",
          "Team": "PHI"
         },
         {
          "FantasyPoints": 31.3,
          "Player": "John Ross",
          "Team": "CIN"
         },
         {
          "FantasyPoints": 28.7,
          "Player": "Marquise Brown",
          "Team": "BAL"
         },
         {
          "FantasyPoints": 27.1,
          "Player": "DeAndre Hopkins",
          "Team": "HOU"
         },
         {
          "FantasyPoints": 24.7,
          "Player": "T.Y. Hilton",
          "Team": "IND"
         },
         {
          "FantasyPoints": 23.5,
          "Player": "Phillip Dorsett",
          "Team": "NE"
         },
         {
          "FantasyPoints": 22.6,
          "Player": "D.J. Chark",
          "Team": "JAC"
         },
         {
          "FantasyPoints": 22.3,
          "Player": "Keenan Allen",
          "Team": "LAC"
         },
         {
          "FantasyPoints": 21.8,
          "Player": "John Brown",
          "Team": "BUF"
         },
         {
          "FantasyPoints": 21.3,
          "Player": "Larry Fitzgerald",
          "Team": "ARI"
         },
         {
          "FantasyPoints": 21,
          "Player": "Terry McLaurin",
          "Team": "WAS"
         },
         {
          "FantasyPoints": 19.9,
          "Player": "Danny Amendola",
          "Team": "DET"
         },
         {
          "FantasyPoints": 19.6,
          "Player": "Amari Cooper",
          "Team": "DAL"
         },
         {
          "FantasyPoints": 19.6,
          "Player": "Alshon Jeffery",
          "Team": "PHI"
         },
         {
          "FantasyPoints": 19.5,
          "Player": "Tyrell Williams",
          "Team": "OAK"
         },
         {
          "FantasyPoints": 19.3,
          "Player": "Michael Gallup",
          "Team": "DAL"
         },
         {
          "FantasyPoints": 18.7,
          "Player": "Chris Conley",
          "Team": "JAC"
         },
         {
          "FantasyPoints": 17.3,
          "Player": "Jamison Crowder",
          "Team": "NYJ"
         },
         {
          "FantasyPoints": 17.3,
          "Player": "Michael Thomas",
          "Team": "NO"
         },
         {
          "FantasyPoints": 17.1,
          "Player": "Emmanuel Sanders",
          "Team": "DEN"
         },
         {
          "FantasyPoints": 15.5,
          "Player": "Courtland Sutton",
          "Team": "DEN"
         },
         {
          "FantasyPoints": 14.9,
          "Player": "Randall Cobb",
          "Team": "DAL"
         },
         {
          "FantasyPoints": 14.8,
          "Player": "Josh Gordon",
          "Team": "NE"
         },
         {
          "FantasyPoints": 14.4,
          "Player": "Calvin Ridley",
          "Team": "ATL"
         },
         {
          "FantasyPoints": 13.7,
          "Player": "Allen Robinson",
          "Team": "CHI"
         },
         {
          "FantasyPoints": 13.6,
          "Player": "Ted Ginn Jr.",
          "Team": "NO"
         },
         {
          "FantasyPoints": 12.8,
          "Player": "Chris Godwin",
          "Team": "TB"
         },
         {
          "FantasyPoints": 12.6,
          "Player": "Robert Woods",
          "Team": "LAR"
         },
         {
          "FantasyPoints": 12.2,
          "Player": "Kenny Golladay",
          "Team": "DET"
         },
         {
          "FantasyPoints": 12.1,
          "Player": "Julian Edelman",
          "Team": "NE"
         },
         {
          "FantasyPoints": 12.1,
          "Player": "Julio Jones",
          "Team": "ATL"
         },
         {
          "FantasyPoints": 11.8,
          "Player": "Adam Thielen",
          "Team": "MIN"
         },
         {
          "FantasyPoints": 11.7,
          "Player": "Dede Westbrook",
          "Team": "JAC"
         },
         {
          "FantasyPoints": 11.5,
          "Player": "A.J. Brown",
          "Team": "TEN"
         },
         {
          "FantasyPoints": 11.3,
          "Player": "Trey Quinn",
          "Team": "WAS"
         },
         {
          "FantasyPoints": 11.2,
          "Player": "Kenny Stills",
          "Team": "HOU"
         },
         {
          "FantasyPoints": 11.1,
          "Player": "D.J. Moore",
          "Team": "CAR"
         },
         {
          "FantasyPoints": 11.1,
          "Player": "Willie Snead",
          "Team": "BAL"
         },
         {
          "FantasyPoints": 10.9,
          "Player": "Tyler Lockett",
          "Team": "SEA"
         },
         {
          "FantasyPoints": 10.9,
          "Player": "D.K. Metcalf",
          "Team": "SEA"
         },
         {
          "FantasyPoints": 10.8,
          "Player": "JuJu Smith-Schuster",
          "Team": "PIT"
         },
         {
          "FantasyPoints": 10.6,
          "Player": "Odell Beckham Jr.",
          "Team": "CLE"
         },
         {
          "FantasyPoints": 10.4,
          "Player": "Richie James",
          "Team": "SF"
         },
         {
          "FantasyPoints": 10.3,
          "Player": "Tyler Boyd",
          "Team": "CIN"
         },
         {
          "FantasyPoints": 9.9,
          "Player": "Preston Williams",
          "Team": "MIA"
         },
         {
          "FantasyPoints": 9.7,
          "Player": "Jarvis Landry",
          "Team": "CLE"
         },
         {
          "FantasyPoints": 9.6,
          "Player": "Tre'Quan Smith",
          "Team": "NO"
         },
         {
          "FantasyPoints": 9,
          "Player": "DeVante Parker",
          "Team": "MIA"
         },
         {
          "FantasyPoints": 8.9,
          "Player": "Cody Latimer",
          "Team": "NYG"
         }
        ]
       },
       "encoding": {
        "color": {
         "field": "Team",
         "scale": {
          "domain": [
           "ARI",
           "ATL",
           "BAL",
           "BUF",
           "CAR",
           "CHI",
           "CIN",
           "CLE",
           "DAL",
           "DEN",
           "DET",
           "HOU",
           "IND",
           "JAC",
           "KC",
           "LAC",
           "LAR",
           "MIA",
           "MIN",
           "NE",
           "NO",
           "NYG",
           "NYJ",
           "OAK",
           "PHI",
           "PIT",
           "SEA",
           "SF",
           "TB",
           "TEN",
           "WAS"
          ],
          "range": [
           "#97233F",
           "#A71930",
           "#241773",
           "#00338D",
           "#0085CA",
           "#C83803",
           "#FB4F14",
           "#311D00",
           "#869397",
           "#FB4F14",
           "#0076B6",
           "#03202F",
           "#002C5F",
           "#006778",
           "#E31837",
           "#FFC20E",
           "#866D4B",
           "#FC4C02",
           "#4F2683",
           "#002244",
           "#D3BC8D",
           "#0B2265",
           "#125740",
           "#000000",
           "#004C54",
           "#FFB612",
           "#69BE28",
           "#AA0000",
           "#D50A0A",
           "#418FDE",
           "#773141"
          ]
         },
         "type": "nominal"
        },
        "x": {
         "axis": {
          "labelAngle": -45,
          "title": ""
         },
         "field": "Player",
         "sort": {
          "field": "FantasyPoints",
          "op": "sum",
          "order": "descending"
         },
         "type": "nominal"
        },
        "y": {
         "axis": {
          "title": "Fantasy Points"
         },
         "field": "FantasyPoints",
         "type": "quantitative"
        }
       },
       "mark": "bar",
       "title": "Week 1: 0.5 PPR Fantasy Points by Wide Receivers"
      },
      "image/png": "[encoded data removed]",
      "text/plain": [
       "<VegaLite 3 object>\n",
       "\n",
       "If you see this message, it means the renderer has not been properly enabled\n",
       "for the frontend that you are using. For more information, see\n",
       "https://altair-viz.github.io/user_guide/troubleshooting.html\n"
      ]
     },
     "execution_count": 28,
     "metadata": {},
     "output_type": "execute_result"
    }
   ],
   "source": [
    "chart"
   ]
  },
  {
   "cell_type": "code",
   "execution_count": 29,
   "metadata": {},
   "outputs": [],
   "source": [
    "chart.save(PATH + 'plots/WR_receivingyards_color.png', scale_factor=3.0)"
   ]
  },
  {
   "cell_type": "code",
   "execution_count": 30,
   "metadata": {},
   "outputs": [],
   "source": [
    "chart = alt.Chart(data).mark_bar().encode(\n",
    "    alt.Y(\n",
    "        'FantasyPoints:Q',\n",
    "        axis = alt.Axis(title = 'Fantasy Points')\n",
    "    ),\n",
    "    alt.X(\n",
    "        'Player:N',\n",
    "        sort = alt.EncodingSortField(\n",
    "            field = 'FantasyPoints',\n",
    "            op = 'sum',\n",
    "            order = 'descending'\n",
    "          ),\n",
    "        axis = alt.Axis(title = '', labelAngle = -45)\n",
    "    )\n",
    ").properties(title = 'Week 1: 0.5 PPR Fantasy Points by Wide Receivers')"
   ]
  },
  {
   "cell_type": "code",
   "execution_count": 31,
   "metadata": {},
   "outputs": [
    {
     "data": {
      "application/vnd.vegalite.v3+json": {
       "$schema": "https://vega.github.io/schema/vega-lite/v3.4.0.json",
       "config": {
        "background": "white",
        "mark": {
         "tooltip": null
        },
        "view": {
         "height": 300,
         "width": 400
        }
       },
       "data": {
        "name": "data-8104787203d7657fa20058d49b30dd6e"
       },
       "datasets": {
        "data-8104787203d7657fa20058d49b30dd6e": [
         {
          "FantasyPoints": 42.3,
          "Player": "Sammy Watkins",
          "Team": "KC"
         },
         {
          "FantasyPoints": 31.4,
          "Player": "DeSean Jackson",
          "Team": "PHI"
         },
         {
          "FantasyPoints": 31.3,
          "Player": "John Ross",
          "Team": "CIN"
         },
         {
          "FantasyPoints": 28.7,
          "Player": "Marquise Brown",
          "Team": "BAL"
         },
         {
          "FantasyPoints": 27.1,
          "Player": "DeAndre Hopkins",
          "Team": "HOU"
         },
         {
          "FantasyPoints": 24.7,
          "Player": "T.Y. Hilton",
          "Team": "IND"
         },
         {
          "FantasyPoints": 23.5,
          "Player": "Phillip Dorsett",
          "Team": "NE"
         },
         {
          "FantasyPoints": 22.6,
          "Player": "D.J. Chark",
          "Team": "JAC"
         },
         {
          "FantasyPoints": 22.3,
          "Player": "Keenan Allen",
          "Team": "LAC"
         },
         {
          "FantasyPoints": 21.8,
          "Player": "John Brown",
          "Team": "BUF"
         },
         {
          "FantasyPoints": 21.3,
          "Player": "Larry Fitzgerald",
          "Team": "ARI"
         },
         {
          "FantasyPoints": 21,
          "Player": "Terry McLaurin",
          "Team": "WAS"
         },
         {
          "FantasyPoints": 19.9,
          "Player": "Danny Amendola",
          "Team": "DET"
         },
         {
          "FantasyPoints": 19.6,
          "Player": "Amari Cooper",
          "Team": "DAL"
         },
         {
          "FantasyPoints": 19.6,
          "Player": "Alshon Jeffery",
          "Team": "PHI"
         },
         {
          "FantasyPoints": 19.5,
          "Player": "Tyrell Williams",
          "Team": "OAK"
         },
         {
          "FantasyPoints": 19.3,
          "Player": "Michael Gallup",
          "Team": "DAL"
         },
         {
          "FantasyPoints": 18.7,
          "Player": "Chris Conley",
          "Team": "JAC"
         },
         {
          "FantasyPoints": 17.3,
          "Player": "Jamison Crowder",
          "Team": "NYJ"
         },
         {
          "FantasyPoints": 17.3,
          "Player": "Michael Thomas",
          "Team": "NO"
         },
         {
          "FantasyPoints": 17.1,
          "Player": "Emmanuel Sanders",
          "Team": "DEN"
         },
         {
          "FantasyPoints": 15.5,
          "Player": "Courtland Sutton",
          "Team": "DEN"
         },
         {
          "FantasyPoints": 14.9,
          "Player": "Randall Cobb",
          "Team": "DAL"
         },
         {
          "FantasyPoints": 14.8,
          "Player": "Josh Gordon",
          "Team": "NE"
         },
         {
          "FantasyPoints": 14.4,
          "Player": "Calvin Ridley",
          "Team": "ATL"
         },
         {
          "FantasyPoints": 13.7,
          "Player": "Allen Robinson",
          "Team": "CHI"
         },
         {
          "FantasyPoints": 13.6,
          "Player": "Ted Ginn Jr.",
          "Team": "NO"
         },
         {
          "FantasyPoints": 12.8,
          "Player": "Chris Godwin",
          "Team": "TB"
         },
         {
          "FantasyPoints": 12.6,
          "Player": "Robert Woods",
          "Team": "LAR"
         },
         {
          "FantasyPoints": 12.2,
          "Player": "Kenny Golladay",
          "Team": "DET"
         },
         {
          "FantasyPoints": 12.1,
          "Player": "Julian Edelman",
          "Team": "NE"
         },
         {
          "FantasyPoints": 12.1,
          "Player": "Julio Jones",
          "Team": "ATL"
         },
         {
          "FantasyPoints": 11.8,
          "Player": "Adam Thielen",
          "Team": "MIN"
         },
         {
          "FantasyPoints": 11.7,
          "Player": "Dede Westbrook",
          "Team": "JAC"
         },
         {
          "FantasyPoints": 11.5,
          "Player": "A.J. Brown",
          "Team": "TEN"
         },
         {
          "FantasyPoints": 11.3,
          "Player": "Trey Quinn",
          "Team": "WAS"
         },
         {
          "FantasyPoints": 11.2,
          "Player": "Kenny Stills",
          "Team": "HOU"
         },
         {
          "FantasyPoints": 11.1,
          "Player": "D.J. Moore",
          "Team": "CAR"
         },
         {
          "FantasyPoints": 11.1,
          "Player": "Willie Snead",
          "Team": "BAL"
         },
         {
          "FantasyPoints": 10.9,
          "Player": "Tyler Lockett",
          "Team": "SEA"
         },
         {
          "FantasyPoints": 10.9,
          "Player": "D.K. Metcalf",
          "Team": "SEA"
         },
         {
          "FantasyPoints": 10.8,
          "Player": "JuJu Smith-Schuster",
          "Team": "PIT"
         },
         {
          "FantasyPoints": 10.6,
          "Player": "Odell Beckham Jr.",
          "Team": "CLE"
         },
         {
          "FantasyPoints": 10.4,
          "Player": "Richie James",
          "Team": "SF"
         },
         {
          "FantasyPoints": 10.3,
          "Player": "Tyler Boyd",
          "Team": "CIN"
         },
         {
          "FantasyPoints": 9.9,
          "Player": "Preston Williams",
          "Team": "MIA"
         },
         {
          "FantasyPoints": 9.7,
          "Player": "Jarvis Landry",
          "Team": "CLE"
         },
         {
          "FantasyPoints": 9.6,
          "Player": "Tre'Quan Smith",
          "Team": "NO"
         },
         {
          "FantasyPoints": 9,
          "Player": "DeVante Parker",
          "Team": "MIA"
         },
         {
          "FantasyPoints": 8.9,
          "Player": "Cody Latimer",
          "Team": "NYG"
         }
        ]
       },
       "encoding": {
        "x": {
         "axis": {
          "labelAngle": -45,
          "title": ""
         },
         "field": "Player",
         "sort": {
          "field": "FantasyPoints",
          "op": "sum",
          "order": "descending"
         },
         "type": "nominal"
        },
        "y": {
         "axis": {
          "title": "Fantasy Points"
         },
         "field": "FantasyPoints",
         "type": "quantitative"
        }
       },
       "mark": "bar",
       "title": "Week 1: 0.5 PPR Fantasy Points by Wide Receivers"
      },
      "image/png": "[encoded data removed]",
      "text/plain": [
       "<VegaLite 3 object>\n",
       "\n",
       "If you see this message, it means the renderer has not been properly enabled\n",
       "for the frontend that you are using. For more information, see\n",
       "https://altair-viz.github.io/user_guide/troubleshooting.html\n"
      ]
     },
     "execution_count": 31,
     "metadata": {},
     "output_type": "execute_result"
    }
   ],
   "source": [
    "chart"
   ]
  },
  {
   "cell_type": "code",
   "execution_count": 32,
   "metadata": {},
   "outputs": [],
   "source": [
    "chart.save(PATH + 'plots/WR_receivingyards_plain.png', scale_factor=3.0)"
   ]
  },
  {
   "cell_type": "markdown",
   "metadata": {},
   "source": [
    "## Targets"
   ]
  },
  {
   "cell_type": "code",
   "execution_count": null,
   "metadata": {},
   "outputs": [],
   "source": [
    "data = df[['Player', 'Team', 'Targets']].copy()"
   ]
  },
  {
   "cell_type": "code",
   "execution_count": null,
   "metadata": {},
   "outputs": [],
   "source": []
  },
  {
   "cell_type": "code",
   "execution_count": null,
   "metadata": {},
   "outputs": [],
   "source": []
  },
  {
   "cell_type": "code",
   "execution_count": null,
   "metadata": {},
   "outputs": [],
   "source": []
  },
  {
   "cell_type": "code",
   "execution_count": null,
   "metadata": {},
   "outputs": [],
   "source": []
  },
  {
   "cell_type": "code",
   "execution_count": null,
   "metadata": {},
   "outputs": [],
   "source": []
  },
  {
   "cell_type": "code",
   "execution_count": null,
   "metadata": {},
   "outputs": [],
   "source": []
  }
 ],
 "metadata": {
  "kernelspec": {
   "display_name": "Python 3",
   "language": "python",
   "name": "python3"
  },
  "language_info": {
   "codemirror_mode": {
    "name": "ipython",
    "version": 3
   },
   "file_extension": ".py",
   "mimetype": "text/x-python",
   "name": "python",
   "nbconvert_exporter": "python",
   "pygments_lexer": "ipython3",
   "version": "3.7.0"
  }
 },
 "nbformat": 4,
 "nbformat_minor": 4
}
