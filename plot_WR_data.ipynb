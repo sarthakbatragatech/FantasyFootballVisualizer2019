{
 "cells": [
  {
   "cell_type": "code",
   "execution_count": 1,
   "metadata": {},
   "outputs": [
    {
     "data": {
      "text/plain": [
       "ThemeRegistry.enable('opaque')"
      ]
     },
     "execution_count": 1,
     "metadata": {},
     "output_type": "execute_result"
    }
   ],
   "source": [
    "import pandas as pd\n",
    "import altair as alt\n",
    "\n",
    "alt.themes.enable('opaque')"
   ]
  },
  {
   "cell_type": "code",
   "execution_count": 2,
   "metadata": {},
   "outputs": [],
   "source": [
    "position = 'WR'\n",
    "week = '1'\n",
    "PATH = 'data/week' + week + '/' + position + '/'"
   ]
  },
  {
   "cell_type": "code",
   "execution_count": 3,
   "metadata": {},
   "outputs": [
    {
     "data": {
      "text/html": [
       "<div>\n",
       "<style scoped>\n",
       "    .dataframe tbody tr th:only-of-type {\n",
       "        vertical-align: middle;\n",
       "    }\n",
       "\n",
       "    .dataframe tbody tr th {\n",
       "        vertical-align: top;\n",
       "    }\n",
       "\n",
       "    .dataframe thead th {\n",
       "        text-align: right;\n",
       "    }\n",
       "</style>\n",
       "<table border=\"1\" class=\"dataframe\">\n",
       "  <thead>\n",
       "    <tr style=\"text-align: right;\">\n",
       "      <th></th>\n",
       "      <th>Player</th>\n",
       "      <th>Team</th>\n",
       "      <th>Games</th>\n",
       "      <th>Targets</th>\n",
       "      <th>Receptions</th>\n",
       "      <th>ReceivingYards</th>\n",
       "      <th>ReceivingTD</th>\n",
       "      <th>Attempts</th>\n",
       "      <th>RushingYards</th>\n",
       "      <th>RushingTD</th>\n",
       "      <th>FantasyPoints</th>\n",
       "      <th>FantasyPointsPerGame</th>\n",
       "    </tr>\n",
       "  </thead>\n",
       "  <tbody>\n",
       "    <tr>\n",
       "      <td>0</td>\n",
       "      <td>Sammy Watkins</td>\n",
       "      <td>KC</td>\n",
       "      <td>1</td>\n",
       "      <td>11</td>\n",
       "      <td>9</td>\n",
       "      <td>198</td>\n",
       "      <td>3</td>\n",
       "      <td>0</td>\n",
       "      <td>0</td>\n",
       "      <td>0</td>\n",
       "      <td>42.3</td>\n",
       "      <td>42.3</td>\n",
       "    </tr>\n",
       "    <tr>\n",
       "      <td>1</td>\n",
       "      <td>DeSean Jackson</td>\n",
       "      <td>PHI</td>\n",
       "      <td>1</td>\n",
       "      <td>10</td>\n",
       "      <td>8</td>\n",
       "      <td>154</td>\n",
       "      <td>2</td>\n",
       "      <td>0</td>\n",
       "      <td>0</td>\n",
       "      <td>0</td>\n",
       "      <td>31.4</td>\n",
       "      <td>31.4</td>\n",
       "    </tr>\n",
       "    <tr>\n",
       "      <td>2</td>\n",
       "      <td>John Ross</td>\n",
       "      <td>CIN</td>\n",
       "      <td>1</td>\n",
       "      <td>12</td>\n",
       "      <td>7</td>\n",
       "      <td>158</td>\n",
       "      <td>2</td>\n",
       "      <td>0</td>\n",
       "      <td>0</td>\n",
       "      <td>0</td>\n",
       "      <td>31.3</td>\n",
       "      <td>31.3</td>\n",
       "    </tr>\n",
       "    <tr>\n",
       "      <td>3</td>\n",
       "      <td>Marquise Brown</td>\n",
       "      <td>BAL</td>\n",
       "      <td>1</td>\n",
       "      <td>5</td>\n",
       "      <td>4</td>\n",
       "      <td>147</td>\n",
       "      <td>2</td>\n",
       "      <td>0</td>\n",
       "      <td>0</td>\n",
       "      <td>0</td>\n",
       "      <td>28.7</td>\n",
       "      <td>28.7</td>\n",
       "    </tr>\n",
       "    <tr>\n",
       "      <td>4</td>\n",
       "      <td>DeAndre Hopkins</td>\n",
       "      <td>HOU</td>\n",
       "      <td>1</td>\n",
       "      <td>13</td>\n",
       "      <td>8</td>\n",
       "      <td>111</td>\n",
       "      <td>2</td>\n",
       "      <td>0</td>\n",
       "      <td>0</td>\n",
       "      <td>0</td>\n",
       "      <td>27.1</td>\n",
       "      <td>27.1</td>\n",
       "    </tr>\n",
       "  </tbody>\n",
       "</table>\n",
       "</div>"
      ],
      "text/plain": [
       "            Player Team  Games  Targets  Receptions  ReceivingYards  \\\n",
       "0    Sammy Watkins   KC      1       11           9             198   \n",
       "1   DeSean Jackson  PHI      1       10           8             154   \n",
       "2        John Ross  CIN      1       12           7             158   \n",
       "3   Marquise Brown  BAL      1        5           4             147   \n",
       "4  DeAndre Hopkins  HOU      1       13           8             111   \n",
       "\n",
       "   ReceivingTD  Attempts  RushingYards  RushingTD  FantasyPoints  \\\n",
       "0            3         0             0          0           42.3   \n",
       "1            2         0             0          0           31.4   \n",
       "2            2         0             0          0           31.3   \n",
       "3            2         0             0          0           28.7   \n",
       "4            2         0             0          0           27.1   \n",
       "\n",
       "   FantasyPointsPerGame  \n",
       "0                  42.3  \n",
       "1                  31.4  \n",
       "2                  31.3  \n",
       "3                  28.7  \n",
       "4                  27.1  "
      ]
     },
     "execution_count": 3,
     "metadata": {},
     "output_type": "execute_result"
    }
   ],
   "source": [
    "df = pd.read_csv(PATH + position + '.csv')\n",
    "df.head()"
   ]
  },
  {
   "cell_type": "code",
   "execution_count": 4,
   "metadata": {},
   "outputs": [],
   "source": [
    "data = df[['Player', 'Team', 'Targets', 'Receptions', 'ReceivingYards', 'FantasyPoints']].copy()"
   ]
  },
  {
   "cell_type": "code",
   "execution_count": 5,
   "metadata": {},
   "outputs": [
    {
     "data": {
      "text/plain": [
       "['ARI', 'ATL', 'BAL', 'BUF', 'CAR']"
      ]
     },
     "execution_count": 5,
     "metadata": {},
     "output_type": "execute_result"
    }
   ],
   "source": [
    "# Create sorted list of teams in dataframe\n",
    "# Data is defined below, above charts\n",
    "teams = sorted((data['Team'].unique()))\n",
    "teams[:5]"
   ]
  },
  {
   "cell_type": "code",
   "execution_count": 6,
   "metadata": {},
   "outputs": [],
   "source": [
    "# Create list of all 32 teams\n",
    "all_teams = ['ARI', 'ATL', 'BAL', 'BUF',\n",
    "             'CAR', 'CHI', 'CIN', 'CLE',\n",
    "             'DAL', 'DEN', 'DET', 'GB',\n",
    "             'HOU', 'IND', 'JAC', 'KC', \n",
    "             'LAC', 'LAR', 'MIA', 'MIN', \n",
    "             'NE', 'NO', 'NYG', 'NYJ', \n",
    "             'OAK', 'PHI', 'PIT', 'SEA',\n",
    "             'SF', 'TB', 'TEN', 'WAS']"
   ]
  },
  {
   "cell_type": "code",
   "execution_count": 7,
   "metadata": {},
   "outputs": [
    {
     "data": {
      "text/plain": [
       "['GB']"
      ]
     },
     "execution_count": 7,
     "metadata": {},
     "output_type": "execute_result"
    }
   ],
   "source": [
    "# Sometimes a team can be missing, find which ones\n",
    "[team for team in all_teams if team not in teams]"
   ]
  },
  {
   "cell_type": "code",
   "execution_count": 8,
   "metadata": {},
   "outputs": [],
   "source": [
    "# Create list of team colors, comment colors for missing teams\n",
    "color_codes = [\n",
    "    '#97233F', #ARI\n",
    "    '#A71930', #ATL\n",
    "    '#241773', #BAL\n",
    "    '#00338D', #BUF\n",
    "    '#0085CA', #CAR\n",
    "    '#C83803', #CHI\n",
    "    '#FB4F14', #CIN\n",
    "    '#311D00', #CLE\n",
    "    '#869397', #DAL\n",
    "    '#FB4F14', #DEN\n",
    "    '#0076B6', #DET\n",
    "    # '#203731', #GB\n",
    "    '#03202F', #HOU\n",
    "    '#002C5F', #IND\n",
    "    '#006778', #JAC\n",
    "    '#E31837', #KC\n",
    "    '#FFC20E', #LAC\n",
    "    '#866D4B', #LAR\n",
    "    '#FC4C02', #MIA\n",
    "    '#4F2683', #MIN\n",
    "    '#002244', #NE\n",
    "    '#D3BC8D', #NO\n",
    "    '#0B2265', #NYG\n",
    "    '#125740', #NYJ\n",
    "    '#000000', #OAK\n",
    "    '#004C54', #PHI\n",
    "    '#FFB612', #PIT\n",
    "    '#69BE28', #SEA\n",
    "    '#AA0000', #SF\n",
    "    '#D50A0A', #TB\n",
    "    '#418FDE', #TEN\n",
    "    '#773141' #WAS\n",
    "]"
   ]
  },
  {
   "cell_type": "code",
   "execution_count": null,
   "metadata": {},
   "outputs": [],
   "source": []
  },
  {
   "cell_type": "code",
   "execution_count": null,
   "metadata": {},
   "outputs": [],
   "source": []
  },
  {
   "cell_type": "code",
   "execution_count": null,
   "metadata": {},
   "outputs": [],
   "source": []
  },
  {
   "cell_type": "code",
   "execution_count": null,
   "metadata": {},
   "outputs": [],
   "source": []
  },
  {
   "cell_type": "code",
   "execution_count": null,
   "metadata": {},
   "outputs": [],
   "source": []
  }
 ],
 "metadata": {
  "kernelspec": {
   "display_name": "Python 3",
   "language": "python",
   "name": "python3"
  },
  "language_info": {
   "codemirror_mode": {
    "name": "ipython",
    "version": 3
   },
   "file_extension": ".py",
   "mimetype": "text/x-python",
   "name": "python",
   "nbconvert_exporter": "python",
   "pygments_lexer": "ipython3",
   "version": "3.7.0"
  }
 },
 "nbformat": 4,
 "nbformat_minor": 4
}
