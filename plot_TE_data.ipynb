{
 "cells": [
  {
   "cell_type": "code",
   "execution_count": 1,
   "metadata": {},
   "outputs": [
    {
     "data": {
      "text/plain": [
       "ThemeRegistry.enable('opaque')"
      ]
     },
     "execution_count": 1,
     "metadata": {},
     "output_type": "execute_result"
    }
   ],
   "source": [
    "import pandas as pd\n",
    "import altair as alt\n",
    "\n",
    "alt.themes.enable('opaque')"
   ]
  },
  {
   "cell_type": "code",
   "execution_count": 2,
   "metadata": {},
   "outputs": [],
   "source": [
    "position = 'TE'\n",
    "week = '1'\n",
    "PATH = 'data/week' + week + '/' + position + '/'"
   ]
  },
  {
   "cell_type": "code",
   "execution_count": 3,
   "metadata": {},
   "outputs": [
    {
     "data": {
      "text/html": [
       "<div>\n",
       "<style scoped>\n",
       "    .dataframe tbody tr th:only-of-type {\n",
       "        vertical-align: middle;\n",
       "    }\n",
       "\n",
       "    .dataframe tbody tr th {\n",
       "        vertical-align: top;\n",
       "    }\n",
       "\n",
       "    .dataframe thead th {\n",
       "        text-align: right;\n",
       "    }\n",
       "</style>\n",
       "<table border=\"1\" class=\"dataframe\">\n",
       "  <thead>\n",
       "    <tr style=\"text-align: right;\">\n",
       "      <th></th>\n",
       "      <th>Player</th>\n",
       "      <th>Team</th>\n",
       "      <th>Games</th>\n",
       "      <th>Targets</th>\n",
       "      <th>Receptions</th>\n",
       "      <th>ReceivingYards</th>\n",
       "      <th>ReceivingTD</th>\n",
       "      <th>FantasyPoints</th>\n",
       "      <th>FantasyPointsPerGame</th>\n",
       "    </tr>\n",
       "  </thead>\n",
       "  <tbody>\n",
       "    <tr>\n",
       "      <td>0</td>\n",
       "      <td>Evan Engram</td>\n",
       "      <td>NYG</td>\n",
       "      <td>1</td>\n",
       "      <td>14</td>\n",
       "      <td>11</td>\n",
       "      <td>116</td>\n",
       "      <td>1</td>\n",
       "      <td>23.1</td>\n",
       "      <td>23.1</td>\n",
       "    </tr>\n",
       "    <tr>\n",
       "      <td>1</td>\n",
       "      <td>T.J. Hockenson</td>\n",
       "      <td>DET</td>\n",
       "      <td>1</td>\n",
       "      <td>9</td>\n",
       "      <td>6</td>\n",
       "      <td>131</td>\n",
       "      <td>1</td>\n",
       "      <td>22.1</td>\n",
       "      <td>22.1</td>\n",
       "    </tr>\n",
       "    <tr>\n",
       "      <td>2</td>\n",
       "      <td>Mark Andrews</td>\n",
       "      <td>BAL</td>\n",
       "      <td>1</td>\n",
       "      <td>8</td>\n",
       "      <td>8</td>\n",
       "      <td>108</td>\n",
       "      <td>1</td>\n",
       "      <td>20.8</td>\n",
       "      <td>20.8</td>\n",
       "    </tr>\n",
       "    <tr>\n",
       "      <td>3</td>\n",
       "      <td>Delanie Walker</td>\n",
       "      <td>TEN</td>\n",
       "      <td>1</td>\n",
       "      <td>6</td>\n",
       "      <td>5</td>\n",
       "      <td>55</td>\n",
       "      <td>2</td>\n",
       "      <td>20.0</td>\n",
       "      <td>20.0</td>\n",
       "    </tr>\n",
       "    <tr>\n",
       "      <td>4</td>\n",
       "      <td>Vernon Davis</td>\n",
       "      <td>WAS</td>\n",
       "      <td>1</td>\n",
       "      <td>7</td>\n",
       "      <td>4</td>\n",
       "      <td>59</td>\n",
       "      <td>1</td>\n",
       "      <td>13.9</td>\n",
       "      <td>13.9</td>\n",
       "    </tr>\n",
       "  </tbody>\n",
       "</table>\n",
       "</div>"
      ],
      "text/plain": [
       "           Player Team  Games  Targets  Receptions  ReceivingYards  \\\n",
       "0     Evan Engram  NYG      1       14          11             116   \n",
       "1  T.J. Hockenson  DET      1        9           6             131   \n",
       "2    Mark Andrews  BAL      1        8           8             108   \n",
       "3  Delanie Walker  TEN      1        6           5              55   \n",
       "4    Vernon Davis  WAS      1        7           4              59   \n",
       "\n",
       "   ReceivingTD  FantasyPoints  FantasyPointsPerGame  \n",
       "0            1           23.1                  23.1  \n",
       "1            1           22.1                  22.1  \n",
       "2            1           20.8                  20.8  \n",
       "3            2           20.0                  20.0  \n",
       "4            1           13.9                  13.9  "
      ]
     },
     "execution_count": 3,
     "metadata": {},
     "output_type": "execute_result"
    }
   ],
   "source": [
    "df = pd.read_csv(PATH + position + '.csv')\n",
    "df.head()"
   ]
  },
  {
   "cell_type": "code",
   "execution_count": 4,
   "metadata": {},
   "outputs": [],
   "source": [
    "data = df[['Player', 'Team', 'Targets', 'Receptions', 'ReceivingYards', 'FantasyPoints']].copy()"
   ]
  },
  {
   "cell_type": "code",
   "execution_count": 6,
   "metadata": {},
   "outputs": [
    {
     "data": {
      "text/plain": [
       "['ARI', 'ATL', 'BAL', 'BUF', 'CAR']"
      ]
     },
     "execution_count": 6,
     "metadata": {},
     "output_type": "execute_result"
    }
   ],
   "source": [
    "# Create sorted list of teams in dataframe\n",
    "# Data is defined below, above charts\n",
    "teams = sorted((data['Team'].unique()))\n",
    "teams[:5]"
   ]
  },
  {
   "cell_type": "code",
   "execution_count": 7,
   "metadata": {},
   "outputs": [],
   "source": [
    "# Create list of all 32 teams\n",
    "all_teams = ['ARI', 'ATL', 'BAL', 'BUF',\n",
    "             'CAR', 'CHI', 'CIN', 'CLE',\n",
    "             'DAL', 'DEN', 'DET', 'GB',\n",
    "             'HOU', 'IND', 'JAC', 'KC', \n",
    "             'LAC', 'LAR', 'MIA', 'MIN', \n",
    "             'NE', 'NO', 'NYG', 'NYJ', \n",
    "             'OAK', 'PHI', 'PIT', 'SEA',\n",
    "             'SF', 'TB', 'TEN', 'WAS']"
   ]
  },
  {
   "cell_type": "code",
   "execution_count": 8,
   "metadata": {},
   "outputs": [
    {
     "data": {
      "text/plain": [
       "['MIN']"
      ]
     },
     "execution_count": 8,
     "metadata": {},
     "output_type": "execute_result"
    }
   ],
   "source": [
    "# Sometimes a team can be missing, find which ones\n",
    "[team for team in all_teams if team not in teams]"
   ]
  },
  {
   "cell_type": "code",
   "execution_count": 9,
   "metadata": {},
   "outputs": [],
   "source": [
    "# Create list of team colors, comment colors for missing teams\n",
    "color_codes = [\n",
    "    '#97233F', #ARI\n",
    "    '#A71930', #ATL\n",
    "    '#241773', #BAL\n",
    "    '#00338D', #BUF\n",
    "    '#0085CA', #CAR\n",
    "    '#C83803', #CHI\n",
    "    '#FB4F14', #CIN\n",
    "    '#311D00', #CLE\n",
    "    '#869397', #DAL\n",
    "    '#FB4F14', #DEN\n",
    "    '#0076B6', #DET\n",
    "    '#203731', #GB\n",
    "    '#03202F', #HOU\n",
    "    '#002C5F', #IND\n",
    "    '#006778', #JAC\n",
    "    '#E31837', #KC\n",
    "    '#FFC20E', #LAC\n",
    "    '#866D4B', #LAR\n",
    "    '#FC4C02', #MIA\n",
    "    # '#4F2683', #MIN\n",
    "    '#002244', #NE\n",
    "    '#D3BC8D', #NO\n",
    "    '#0B2265', #NYG\n",
    "    '#125740', #NYJ\n",
    "    '#000000', #OAK\n",
    "    '#004C54', #PHI\n",
    "    '#FFB612', #PIT\n",
    "    '#69BE28', #SEA\n",
    "    '#AA0000', #SF\n",
    "    '#D50A0A', #TB\n",
    "    '#418FDE', #TEN\n",
    "    '#773141' #WAS\n",
    "]"
   ]
  },
  {
   "cell_type": "code",
   "execution_count": 5,
   "metadata": {},
   "outputs": [],
   "source": [
    "# Make sure to run color_codes with updated data\n",
    "extra = pd.DataFrame({\n",
    "    'Player': ['Mo Alie-Cox', 'Ryan Izzo', 'Dawson Knox'],\n",
    "    'Team': ['IND', 'NE', 'BUF'],\n",
    "    'Targets': [1, 2, 2],\n",
    "    'Receptions': [1, 1, 1],\n",
    "    'ReceivingYards':[3, 3, 1],\n",
    "    'FantasyPoints': [0.8, 0.8, 0.6]})\n",
    "data = data.append(extra, ignore_index = True)"
   ]
  },
  {
   "cell_type": "markdown",
   "metadata": {},
   "source": [
    "## Fantasy Points"
   ]
  },
  {
   "cell_type": "code",
   "execution_count": 10,
   "metadata": {},
   "outputs": [],
   "source": [
    "chart = alt.Chart(data).mark_bar().encode(\n",
    "    alt.Y(\n",
    "        'FantasyPoints:Q',\n",
    "        axis = alt.Axis(title = 'Fantasy Points')\n",
    "    ),\n",
    "    alt.X(\n",
    "        'Player:N',\n",
    "        sort = alt.EncodingSortField(\n",
    "            field = 'FantasyPoints',\n",
    "            op = 'sum',\n",
    "            order = 'descending'\n",
    "          ),\n",
    "        axis = alt.Axis(title = '', labelAngle = -45)\n",
    "    ),\n",
    "    color = alt.Color(\n",
    "        'Team:N',\n",
    "        scale = alt.Scale(\n",
    "            domain = teams,\n",
    "            range = color_codes        \n",
    "        )\n",
    "    )\n",
    ").properties(title = 'Week 1: 0.5 PPR Fantasy Points by Tight Ends')"
   ]
  },
  {
   "cell_type": "code",
   "execution_count": 11,
   "metadata": {},
   "outputs": [
    {
     "data": {
      "application/vnd.vegalite.v3+json": {
       "$schema": "https://vega.github.io/schema/vega-lite/v3.4.0.json",
       "config": {
        "background": "white",
        "mark": {
         "tooltip": null
        },
        "view": {
         "height": 300,
         "width": 400
        }
       },
       "data": {
        "name": "data-ab3aff318d0f9b16f5519f1e79c6fd4f"
       },
       "datasets": {
        "data-ab3aff318d0f9b16f5519f1e79c6fd4f": [
         {
          "FantasyPoints": 23.1,
          "Player": "Evan Engram",
          "ReceivingYards": 116,
          "Receptions": 11,
          "Targets": 14,
          "Team": "NYG"
         },
         {
          "FantasyPoints": 22.1,
          "Player": "T.J. Hockenson",
          "ReceivingYards": 131,
          "Receptions": 6,
          "Targets": 9,
          "Team": "DET"
         },
         {
          "FantasyPoints": 20.8,
          "Player": "Mark Andrews",
          "ReceivingYards": 108,
          "Receptions": 8,
          "Targets": 8,
          "Team": "BAL"
         },
         {
          "FantasyPoints": 20,
          "Player": "Delanie Walker",
          "ReceivingYards": 55,
          "Receptions": 5,
          "Targets": 6,
          "Team": "TEN"
         },
         {
          "FantasyPoints": 13.9,
          "Player": "Vernon Davis",
          "ReceivingYards": 59,
          "Receptions": 4,
          "Targets": 7,
          "Team": "WAS"
         },
         {
          "FantasyPoints": 12.2,
          "Player": "Austin Hooper",
          "ReceivingYards": 77,
          "Receptions": 9,
          "Targets": 9,
          "Team": "ATL"
         },
         {
          "FantasyPoints": 11.7,
          "Player": "David Njoku",
          "ReceivingYards": 37,
          "Receptions": 4,
          "Targets": 6,
          "Team": "CLE"
         },
         {
          "FantasyPoints": 11.4,
          "Player": "Blake Jarwin",
          "ReceivingYards": 39,
          "Receptions": 3,
          "Targets": 3,
          "Team": "DAL"
         },
         {
          "FantasyPoints": 10.5,
          "Player": "Jimmy Graham",
          "ReceivingYards": 30,
          "Receptions": 3,
          "Targets": 6,
          "Team": "GB"
         },
         {
          "FantasyPoints": 10.5,
          "Player": "Darren Waller",
          "ReceivingYards": 70,
          "Receptions": 7,
          "Targets": 8,
          "Team": "OAK"
         },
         {
          "FantasyPoints": 10.3,
          "Player": "Travis Kelce",
          "ReceivingYards": 88,
          "Receptions": 3,
          "Targets": 8,
          "Team": "KC"
         },
         {
          "FantasyPoints": 10,
          "Player": "Tyler Higbee",
          "ReceivingYards": 20,
          "Receptions": 4,
          "Targets": 5,
          "Team": "LAR"
         },
         {
          "FantasyPoints": 9.4,
          "Player": "George Kittle",
          "ReceivingYards": 54,
          "Receptions": 8,
          "Targets": 10,
          "Team": "SF"
         },
         {
          "FantasyPoints": 9,
          "Player": "Jason Witten",
          "ReceivingYards": 15,
          "Receptions": 3,
          "Targets": 4,
          "Team": "DAL"
         },
         {
          "FantasyPoints": 8.6,
          "Player": "C.J. Uzomah",
          "ReceivingYards": 66,
          "Receptions": 4,
          "Targets": 5,
          "Team": "CIN"
         },
         {
          "FantasyPoints": 8,
          "Player": "Hunter Henry",
          "ReceivingYards": 60,
          "Receptions": 4,
          "Targets": 5,
          "Team": "LAC"
         },
         {
          "FantasyPoints": 7.9,
          "Player": "Zach Ertz",
          "ReceivingYards": 54,
          "Receptions": 5,
          "Targets": 7,
          "Team": "PHI"
         },
         {
          "FantasyPoints": 5.6,
          "Player": "Hayden Hurst",
          "ReceivingYards": 41,
          "Receptions": 3,
          "Targets": 4,
          "Team": "BAL"
         },
         {
          "FantasyPoints": 5.6,
          "Player": "Greg Olsen",
          "ReceivingYards": 36,
          "Receptions": 4,
          "Targets": 9,
          "Team": "CAR"
         },
         {
          "FantasyPoints": 5.2,
          "Player": "Tyler Eifert",
          "ReceivingYards": 27,
          "Receptions": 5,
          "Targets": 6,
          "Team": "CIN"
         },
         {
          "FantasyPoints": 5.2,
          "Player": "O.J. Howard",
          "ReceivingYards": 32,
          "Receptions": 4,
          "Targets": 5,
          "Team": "TB"
         },
         {
          "FantasyPoints": 5.2,
          "Player": "James O'Shaughnessy",
          "ReceivingYards": 32,
          "Receptions": 4,
          "Targets": 5,
          "Team": "JAC"
         },
         {
          "FantasyPoints": 5,
          "Player": "Vance McDonald",
          "ReceivingYards": 40,
          "Receptions": 2,
          "Targets": 4,
          "Team": "PIT"
         },
         {
          "FantasyPoints": 4.7,
          "Player": "Jared Cook",
          "ReceivingYards": 37,
          "Receptions": 2,
          "Targets": 3,
          "Team": "NO"
         },
         {
          "FantasyPoints": 4.5,
          "Player": "Tommy Sweeney",
          "ReceivingYards": 35,
          "Receptions": 2,
          "Targets": 2,
          "Team": "BUF"
         },
         {
          "FantasyPoints": 4.1,
          "Player": "Nick Boyle",
          "ReceivingYards": 26,
          "Receptions": 3,
          "Targets": 3,
          "Team": "BAL"
         },
         {
          "FantasyPoints": 4.1,
          "Player": "Mike Gesicki",
          "ReceivingYards": 31,
          "Receptions": 2,
          "Targets": 6,
          "Team": "MIA"
         },
         {
          "FantasyPoints": 3.7,
          "Player": "Geoff Swaim",
          "ReceivingYards": 17,
          "Receptions": 4,
          "Targets": 4,
          "Team": "JAC"
         },
         {
          "FantasyPoints": 3.4,
          "Player": "Noah Fant",
          "ReceivingYards": 29,
          "Receptions": 2,
          "Targets": 5,
          "Team": "DEN"
         },
         {
          "FantasyPoints": 3.3,
          "Player": "Robert Tonyan",
          "ReceivingYards": 28,
          "Receptions": 1,
          "Targets": 1,
          "Team": "GB"
         },
         {
          "FantasyPoints": 3,
          "Player": "Foster Moreau",
          "ReceivingYards": 20,
          "Receptions": 2,
          "Targets": 2,
          "Team": "OAK"
         },
         {
          "FantasyPoints": 2.6,
          "Player": "Dallas Goedert",
          "ReceivingYards": 16,
          "Receptions": 2,
          "Targets": 3,
          "Team": "PHI"
         },
         {
          "FantasyPoints": 2.6,
          "Player": "Nick Vannett",
          "ReceivingYards": 16,
          "Receptions": 2,
          "Targets": 2,
          "Team": "SEA"
         },
         {
          "FantasyPoints": 2.5,
          "Player": "Jack Doyle",
          "ReceivingYards": 20,
          "Receptions": 1,
          "Targets": 2,
          "Team": "IND"
         },
         {
          "FantasyPoints": 2.5,
          "Player": "Ryan Griffin",
          "ReceivingYards": 10,
          "Receptions": 3,
          "Targets": 4,
          "Team": "NYJ"
         },
         {
          "FantasyPoints": 2.4,
          "Player": "Marcedes Lewis",
          "ReceivingYards": 14,
          "Receptions": 2,
          "Targets": 3,
          "Team": "GB"
         },
         {
          "FantasyPoints": 2.2,
          "Player": "Jordan Akins",
          "ReceivingYards": 17,
          "Receptions": 1,
          "Targets": 2,
          "Team": "HOU"
         },
         {
          "FantasyPoints": 2.2,
          "Player": "Jonnu Smith",
          "ReceivingYards": 7,
          "Receptions": 1,
          "Targets": 1,
          "Team": "TEN"
         },
         {
          "FantasyPoints": 2,
          "Player": "Jesse James",
          "ReceivingYards": 15,
          "Receptions": 1,
          "Targets": 1,
          "Team": "DET"
         },
         {
          "FantasyPoints": 2,
          "Player": "Maxx Williams",
          "ReceivingYards": 15,
          "Receptions": 1,
          "Targets": 1,
          "Team": "ARI"
         },
         {
          "FantasyPoints": 1.8,
          "Player": "Cameron Brate",
          "ReceivingYards": 8,
          "Receptions": 2,
          "Targets": 2,
          "Team": "TB"
         },
         {
          "FantasyPoints": 1.7,
          "Player": "Will Dissly",
          "ReceivingYards": 12,
          "Receptions": 1,
          "Targets": 2,
          "Team": "SEA"
         },
         {
          "FantasyPoints": 1.3,
          "Player": "Eric Ebron",
          "ReceivingYards": 8,
          "Receptions": 1,
          "Targets": 3,
          "Team": "IND"
         },
         {
          "FantasyPoints": 1.3,
          "Player": "Rhett Ellison",
          "ReceivingYards": 8,
          "Receptions": 1,
          "Targets": 2,
          "Team": "NYG"
         },
         {
          "FantasyPoints": 1.3,
          "Player": "Jeremy Sprinkle",
          "ReceivingYards": 8,
          "Receptions": 1,
          "Targets": 1,
          "Team": "WAS"
         },
         {
          "FantasyPoints": 1.2,
          "Player": "Blake Bell",
          "ReceivingYards": 7,
          "Receptions": 1,
          "Targets": 1,
          "Team": "KC"
         },
         {
          "FantasyPoints": 1.2,
          "Player": "Gerald Everett",
          "ReceivingYards": 7,
          "Receptions": 1,
          "Targets": 1,
          "Team": "LAR"
         },
         {
          "FantasyPoints": 1.1,
          "Player": "Adam Shaheen",
          "ReceivingYards": 6,
          "Receptions": 1,
          "Targets": 2,
          "Team": "CHI"
         },
         {
          "FantasyPoints": 1,
          "Player": "Charles Clay",
          "ReceivingYards": 5,
          "Receptions": 1,
          "Targets": 1,
          "Team": "ARI"
         },
         {
          "FantasyPoints": 0.9,
          "Player": "Virgil Green",
          "ReceivingYards": 4,
          "Receptions": 1,
          "Targets": 1,
          "Team": "LAC"
         },
         {
          "FantasyPoints": 0.8,
          "Player": "Mo Alie-Cox",
          "ReceivingYards": 3,
          "Receptions": 1,
          "Targets": 1,
          "Team": "IND"
         },
         {
          "FantasyPoints": 0.8,
          "Player": "Ryan Izzo",
          "ReceivingYards": 3,
          "Receptions": 1,
          "Targets": 2,
          "Team": "NE"
         },
         {
          "FantasyPoints": 0.6,
          "Player": "Dawson Knox",
          "ReceivingYards": 1,
          "Receptions": 1,
          "Targets": 2,
          "Team": "BUF"
         }
        ]
       },
       "encoding": {
        "color": {
         "field": "Team",
         "scale": {
          "domain": [
           "ARI",
           "ATL",
           "BAL",
           "BUF",
           "CAR",
           "CHI",
           "CIN",
           "CLE",
           "DAL",
           "DEN",
           "DET",
           "GB",
           "HOU",
           "IND",
           "JAC",
           "KC",
           "LAC",
           "LAR",
           "MIA",
           "NE",
           "NO",
           "NYG",
           "NYJ",
           "OAK",
           "PHI",
           "PIT",
           "SEA",
           "SF",
           "TB",
           "TEN",
           "WAS"
          ],
          "range": [
           "#97233F",
           "#A71930",
           "#241773",
           "#00338D",
           "#0085CA",
           "#C83803",
           "#FB4F14",
           "#311D00",
           "#869397",
           "#FB4F14",
           "#0076B6",
           "#203731",
           "#03202F",
           "#002C5F",
           "#006778",
           "#E31837",
           "#FFC20E",
           "#866D4B",
           "#FC4C02",
           "#002244",
           "#D3BC8D",
           "#0B2265",
           "#125740",
           "#000000",
           "#004C54",
           "#FFB612",
           "#69BE28",
           "#AA0000",
           "#D50A0A",
           "#418FDE",
           "#773141"
          ]
         },
         "type": "nominal"
        },
        "x": {
         "axis": {
          "labelAngle": -45,
          "title": ""
         },
         "field": "Player",
         "sort": {
          "field": "FantasyPoints",
          "op": "sum",
          "order": "descending"
         },
         "type": "nominal"
        },
        "y": {
         "axis": {
          "title": "Fantasy Points"
         },
         "field": "FantasyPoints",
         "type": "quantitative"
        }
       },
       "mark": "bar",
       "title": "Week 1: 0.5 PPR Fantasy Points by Tight Ends"
      },
      "image/png": "[encoded data removed]",
      "text/plain": [
       "<VegaLite 3 object>\n",
       "\n",
       "If you see this message, it means the renderer has not been properly enabled\n",
       "for the frontend that you are using. For more information, see\n",
       "https://altair-viz.github.io/user_guide/troubleshooting.html\n"
      ]
     },
     "execution_count": 11,
     "metadata": {},
     "output_type": "execute_result"
    }
   ],
   "source": [
    "chart"
   ]
  },
  {
   "cell_type": "code",
   "execution_count": 12,
   "metadata": {},
   "outputs": [],
   "source": [
    "chart.save(PATH + 'plots/TE_fantasypoints_color.png', scale_factor=3.0)"
   ]
  },
  {
   "cell_type": "code",
   "execution_count": 13,
   "metadata": {},
   "outputs": [],
   "source": [
    "chart = alt.Chart(data).mark_bar().encode(\n",
    "    alt.Y(\n",
    "        'FantasyPoints:Q',\n",
    "        axis = alt.Axis(title = 'Fantasy Points')\n",
    "    ),\n",
    "    alt.X(\n",
    "        'Player:N',\n",
    "        sort = alt.EncodingSortField(\n",
    "            field = 'FantasyPoints',\n",
    "            op = 'sum',\n",
    "            order = 'descending'\n",
    "          ),\n",
    "        axis = alt.Axis(title = '', labelAngle = -45)\n",
    "    )\n",
    ").properties(title = 'Week 1: 0.5 PPR Fantasy Points by Tight Ends')"
   ]
  },
  {
   "cell_type": "code",
   "execution_count": 14,
   "metadata": {},
   "outputs": [
    {
     "data": {
      "application/vnd.vegalite.v3+json": {
       "$schema": "https://vega.github.io/schema/vega-lite/v3.4.0.json",
       "config": {
        "background": "white",
        "mark": {
         "tooltip": null
        },
        "view": {
         "height": 300,
         "width": 400
        }
       },
       "data": {
        "name": "data-ab3aff318d0f9b16f5519f1e79c6fd4f"
       },
       "datasets": {
        "data-ab3aff318d0f9b16f5519f1e79c6fd4f": [
         {
          "FantasyPoints": 23.1,
          "Player": "Evan Engram",
          "ReceivingYards": 116,
          "Receptions": 11,
          "Targets": 14,
          "Team": "NYG"
         },
         {
          "FantasyPoints": 22.1,
          "Player": "T.J. Hockenson",
          "ReceivingYards": 131,
          "Receptions": 6,
          "Targets": 9,
          "Team": "DET"
         },
         {
          "FantasyPoints": 20.8,
          "Player": "Mark Andrews",
          "ReceivingYards": 108,
          "Receptions": 8,
          "Targets": 8,
          "Team": "BAL"
         },
         {
          "FantasyPoints": 20,
          "Player": "Delanie Walker",
          "ReceivingYards": 55,
          "Receptions": 5,
          "Targets": 6,
          "Team": "TEN"
         },
         {
          "FantasyPoints": 13.9,
          "Player": "Vernon Davis",
          "ReceivingYards": 59,
          "Receptions": 4,
          "Targets": 7,
          "Team": "WAS"
         },
         {
          "FantasyPoints": 12.2,
          "Player": "Austin Hooper",
          "ReceivingYards": 77,
          "Receptions": 9,
          "Targets": 9,
          "Team": "ATL"
         },
         {
          "FantasyPoints": 11.7,
          "Player": "David Njoku",
          "ReceivingYards": 37,
          "Receptions": 4,
          "Targets": 6,
          "Team": "CLE"
         },
         {
          "FantasyPoints": 11.4,
          "Player": "Blake Jarwin",
          "ReceivingYards": 39,
          "Receptions": 3,
          "Targets": 3,
          "Team": "DAL"
         },
         {
          "FantasyPoints": 10.5,
          "Player": "Jimmy Graham",
          "ReceivingYards": 30,
          "Receptions": 3,
          "Targets": 6,
          "Team": "GB"
         },
         {
          "FantasyPoints": 10.5,
          "Player": "Darren Waller",
          "ReceivingYards": 70,
          "Receptions": 7,
          "Targets": 8,
          "Team": "OAK"
         },
         {
          "FantasyPoints": 10.3,
          "Player": "Travis Kelce",
          "ReceivingYards": 88,
          "Receptions": 3,
          "Targets": 8,
          "Team": "KC"
         },
         {
          "FantasyPoints": 10,
          "Player": "Tyler Higbee",
          "ReceivingYards": 20,
          "Receptions": 4,
          "Targets": 5,
          "Team": "LAR"
         },
         {
          "FantasyPoints": 9.4,
          "Player": "George Kittle",
          "ReceivingYards": 54,
          "Receptions": 8,
          "Targets": 10,
          "Team": "SF"
         },
         {
          "FantasyPoints": 9,
          "Player": "Jason Witten",
          "ReceivingYards": 15,
          "Receptions": 3,
          "Targets": 4,
          "Team": "DAL"
         },
         {
          "FantasyPoints": 8.6,
          "Player": "C.J. Uzomah",
          "ReceivingYards": 66,
          "Receptions": 4,
          "Targets": 5,
          "Team": "CIN"
         },
         {
          "FantasyPoints": 8,
          "Player": "Hunter Henry",
          "ReceivingYards": 60,
          "Receptions": 4,
          "Targets": 5,
          "Team": "LAC"
         },
         {
          "FantasyPoints": 7.9,
          "Player": "Zach Ertz",
          "ReceivingYards": 54,
          "Receptions": 5,
          "Targets": 7,
          "Team": "PHI"
         },
         {
          "FantasyPoints": 5.6,
          "Player": "Hayden Hurst",
          "ReceivingYards": 41,
          "Receptions": 3,
          "Targets": 4,
          "Team": "BAL"
         },
         {
          "FantasyPoints": 5.6,
          "Player": "Greg Olsen",
          "ReceivingYards": 36,
          "Receptions": 4,
          "Targets": 9,
          "Team": "CAR"
         },
         {
          "FantasyPoints": 5.2,
          "Player": "Tyler Eifert",
          "ReceivingYards": 27,
          "Receptions": 5,
          "Targets": 6,
          "Team": "CIN"
         },
         {
          "FantasyPoints": 5.2,
          "Player": "O.J. Howard",
          "ReceivingYards": 32,
          "Receptions": 4,
          "Targets": 5,
          "Team": "TB"
         },
         {
          "FantasyPoints": 5.2,
          "Player": "James O'Shaughnessy",
          "ReceivingYards": 32,
          "Receptions": 4,
          "Targets": 5,
          "Team": "JAC"
         },
         {
          "FantasyPoints": 5,
          "Player": "Vance McDonald",
          "ReceivingYards": 40,
          "Receptions": 2,
          "Targets": 4,
          "Team": "PIT"
         },
         {
          "FantasyPoints": 4.7,
          "Player": "Jared Cook",
          "ReceivingYards": 37,
          "Receptions": 2,
          "Targets": 3,
          "Team": "NO"
         },
         {
          "FantasyPoints": 4.5,
          "Player": "Tommy Sweeney",
          "ReceivingYards": 35,
          "Receptions": 2,
          "Targets": 2,
          "Team": "BUF"
         },
         {
          "FantasyPoints": 4.1,
          "Player": "Nick Boyle",
          "ReceivingYards": 26,
          "Receptions": 3,
          "Targets": 3,
          "Team": "BAL"
         },
         {
          "FantasyPoints": 4.1,
          "Player": "Mike Gesicki",
          "ReceivingYards": 31,
          "Receptions": 2,
          "Targets": 6,
          "Team": "MIA"
         },
         {
          "FantasyPoints": 3.7,
          "Player": "Geoff Swaim",
          "ReceivingYards": 17,
          "Receptions": 4,
          "Targets": 4,
          "Team": "JAC"
         },
         {
          "FantasyPoints": 3.4,
          "Player": "Noah Fant",
          "ReceivingYards": 29,
          "Receptions": 2,
          "Targets": 5,
          "Team": "DEN"
         },
         {
          "FantasyPoints": 3.3,
          "Player": "Robert Tonyan",
          "ReceivingYards": 28,
          "Receptions": 1,
          "Targets": 1,
          "Team": "GB"
         },
         {
          "FantasyPoints": 3,
          "Player": "Foster Moreau",
          "ReceivingYards": 20,
          "Receptions": 2,
          "Targets": 2,
          "Team": "OAK"
         },
         {
          "FantasyPoints": 2.6,
          "Player": "Dallas Goedert",
          "ReceivingYards": 16,
          "Receptions": 2,
          "Targets": 3,
          "Team": "PHI"
         },
         {
          "FantasyPoints": 2.6,
          "Player": "Nick Vannett",
          "ReceivingYards": 16,
          "Receptions": 2,
          "Targets": 2,
          "Team": "SEA"
         },
         {
          "FantasyPoints": 2.5,
          "Player": "Jack Doyle",
          "ReceivingYards": 20,
          "Receptions": 1,
          "Targets": 2,
          "Team": "IND"
         },
         {
          "FantasyPoints": 2.5,
          "Player": "Ryan Griffin",
          "ReceivingYards": 10,
          "Receptions": 3,
          "Targets": 4,
          "Team": "NYJ"
         },
         {
          "FantasyPoints": 2.4,
          "Player": "Marcedes Lewis",
          "ReceivingYards": 14,
          "Receptions": 2,
          "Targets": 3,
          "Team": "GB"
         },
         {
          "FantasyPoints": 2.2,
          "Player": "Jordan Akins",
          "ReceivingYards": 17,
          "Receptions": 1,
          "Targets": 2,
          "Team": "HOU"
         },
         {
          "FantasyPoints": 2.2,
          "Player": "Jonnu Smith",
          "ReceivingYards": 7,
          "Receptions": 1,
          "Targets": 1,
          "Team": "TEN"
         },
         {
          "FantasyPoints": 2,
          "Player": "Jesse James",
          "ReceivingYards": 15,
          "Receptions": 1,
          "Targets": 1,
          "Team": "DET"
         },
         {
          "FantasyPoints": 2,
          "Player": "Maxx Williams",
          "ReceivingYards": 15,
          "Receptions": 1,
          "Targets": 1,
          "Team": "ARI"
         },
         {
          "FantasyPoints": 1.8,
          "Player": "Cameron Brate",
          "ReceivingYards": 8,
          "Receptions": 2,
          "Targets": 2,
          "Team": "TB"
         },
         {
          "FantasyPoints": 1.7,
          "Player": "Will Dissly",
          "ReceivingYards": 12,
          "Receptions": 1,
          "Targets": 2,
          "Team": "SEA"
         },
         {
          "FantasyPoints": 1.3,
          "Player": "Eric Ebron",
          "ReceivingYards": 8,
          "Receptions": 1,
          "Targets": 3,
          "Team": "IND"
         },
         {
          "FantasyPoints": 1.3,
          "Player": "Rhett Ellison",
          "ReceivingYards": 8,
          "Receptions": 1,
          "Targets": 2,
          "Team": "NYG"
         },
         {
          "FantasyPoints": 1.3,
          "Player": "Jeremy Sprinkle",
          "ReceivingYards": 8,
          "Receptions": 1,
          "Targets": 1,
          "Team": "WAS"
         },
         {
          "FantasyPoints": 1.2,
          "Player": "Blake Bell",
          "ReceivingYards": 7,
          "Receptions": 1,
          "Targets": 1,
          "Team": "KC"
         },
         {
          "FantasyPoints": 1.2,
          "Player": "Gerald Everett",
          "ReceivingYards": 7,
          "Receptions": 1,
          "Targets": 1,
          "Team": "LAR"
         },
         {
          "FantasyPoints": 1.1,
          "Player": "Adam Shaheen",
          "ReceivingYards": 6,
          "Receptions": 1,
          "Targets": 2,
          "Team": "CHI"
         },
         {
          "FantasyPoints": 1,
          "Player": "Charles Clay",
          "ReceivingYards": 5,
          "Receptions": 1,
          "Targets": 1,
          "Team": "ARI"
         },
         {
          "FantasyPoints": 0.9,
          "Player": "Virgil Green",
          "ReceivingYards": 4,
          "Receptions": 1,
          "Targets": 1,
          "Team": "LAC"
         },
         {
          "FantasyPoints": 0.8,
          "Player": "Mo Alie-Cox",
          "ReceivingYards": 3,
          "Receptions": 1,
          "Targets": 1,
          "Team": "IND"
         },
         {
          "FantasyPoints": 0.8,
          "Player": "Ryan Izzo",
          "ReceivingYards": 3,
          "Receptions": 1,
          "Targets": 2,
          "Team": "NE"
         },
         {
          "FantasyPoints": 0.6,
          "Player": "Dawson Knox",
          "ReceivingYards": 1,
          "Receptions": 1,
          "Targets": 2,
          "Team": "BUF"
         }
        ]
       },
       "encoding": {
        "x": {
         "axis": {
          "labelAngle": -45,
          "title": ""
         },
         "field": "Player",
         "sort": {
          "field": "FantasyPoints",
          "op": "sum",
          "order": "descending"
         },
         "type": "nominal"
        },
        "y": {
         "axis": {
          "title": "Fantasy Points"
         },
         "field": "FantasyPoints",
         "type": "quantitative"
        }
       },
       "mark": "bar",
       "title": "Week 1: 0.5 PPR Fantasy Points by Tight Ends"
      },
      "image/png": "[encoded data removed]",
      "text/plain": [
       "<VegaLite 3 object>\n",
       "\n",
       "If you see this message, it means the renderer has not been properly enabled\n",
       "for the frontend that you are using. For more information, see\n",
       "https://altair-viz.github.io/user_guide/troubleshooting.html\n"
      ]
     },
     "execution_count": 14,
     "metadata": {},
     "output_type": "execute_result"
    }
   ],
   "source": [
    "chart"
   ]
  },
  {
   "cell_type": "code",
   "execution_count": 15,
   "metadata": {},
   "outputs": [],
   "source": [
    "chart.save(PATH + 'plots/TE_fantasypoints_plain.png', scale_factor=3.0)"
   ]
  },
  {
   "cell_type": "markdown",
   "metadata": {},
   "source": [
    "## Receiving Yards"
   ]
  },
  {
   "cell_type": "code",
   "execution_count": 16,
   "metadata": {},
   "outputs": [],
   "source": [
    "chart = alt.Chart(data).mark_bar().encode(\n",
    "    alt.Y(\n",
    "        'ReceivingYards:Q',\n",
    "        axis = alt.Axis(title = 'Receiving Yards')\n",
    "    ),\n",
    "    alt.X(\n",
    "        'Player:N',\n",
    "        sort = alt.EncodingSortField(\n",
    "            field = 'ReceivingYards',\n",
    "            op = 'sum',\n",
    "            order = 'descending'\n",
    "          ),\n",
    "        axis = alt.Axis(title = '', labelAngle = -45)\n",
    "    ),\n",
    "    color = alt.Color(\n",
    "        'Team:N',\n",
    "        scale = alt.Scale(\n",
    "            domain = teams,\n",
    "            range = color_codes        \n",
    "        )\n",
    "    )\n",
    ").properties(title = 'Week 1: Receiving Yards by Tight Ends')"
   ]
  },
  {
   "cell_type": "code",
   "execution_count": 17,
   "metadata": {},
   "outputs": [
    {
     "data": {
      "application/vnd.vegalite.v3+json": {
       "$schema": "https://vega.github.io/schema/vega-lite/v3.4.0.json",
       "config": {
        "background": "white",
        "mark": {
         "tooltip": null
        },
        "view": {
         "height": 300,
         "width": 400
        }
       },
       "data": {
        "name": "data-ab3aff318d0f9b16f5519f1e79c6fd4f"
       },
       "datasets": {
        "data-ab3aff318d0f9b16f5519f1e79c6fd4f": [
         {
          "FantasyPoints": 23.1,
          "Player": "Evan Engram",
          "ReceivingYards": 116,
          "Receptions": 11,
          "Targets": 14,
          "Team": "NYG"
         },
         {
          "FantasyPoints": 22.1,
          "Player": "T.J. Hockenson",
          "ReceivingYards": 131,
          "Receptions": 6,
          "Targets": 9,
          "Team": "DET"
         },
         {
          "FantasyPoints": 20.8,
          "Player": "Mark Andrews",
          "ReceivingYards": 108,
          "Receptions": 8,
          "Targets": 8,
          "Team": "BAL"
         },
         {
          "FantasyPoints": 20,
          "Player": "Delanie Walker",
          "ReceivingYards": 55,
          "Receptions": 5,
          "Targets": 6,
          "Team": "TEN"
         },
         {
          "FantasyPoints": 13.9,
          "Player": "Vernon Davis",
          "ReceivingYards": 59,
          "Receptions": 4,
          "Targets": 7,
          "Team": "WAS"
         },
         {
          "FantasyPoints": 12.2,
          "Player": "Austin Hooper",
          "ReceivingYards": 77,
          "Receptions": 9,
          "Targets": 9,
          "Team": "ATL"
         },
         {
          "FantasyPoints": 11.7,
          "Player": "David Njoku",
          "ReceivingYards": 37,
          "Receptions": 4,
          "Targets": 6,
          "Team": "CLE"
         },
         {
          "FantasyPoints": 11.4,
          "Player": "Blake Jarwin",
          "ReceivingYards": 39,
          "Receptions": 3,
          "Targets": 3,
          "Team": "DAL"
         },
         {
          "FantasyPoints": 10.5,
          "Player": "Jimmy Graham",
          "ReceivingYards": 30,
          "Receptions": 3,
          "Targets": 6,
          "Team": "GB"
         },
         {
          "FantasyPoints": 10.5,
          "Player": "Darren Waller",
          "ReceivingYards": 70,
          "Receptions": 7,
          "Targets": 8,
          "Team": "OAK"
         },
         {
          "FantasyPoints": 10.3,
          "Player": "Travis Kelce",
          "ReceivingYards": 88,
          "Receptions": 3,
          "Targets": 8,
          "Team": "KC"
         },
         {
          "FantasyPoints": 10,
          "Player": "Tyler Higbee",
          "ReceivingYards": 20,
          "Receptions": 4,
          "Targets": 5,
          "Team": "LAR"
         },
         {
          "FantasyPoints": 9.4,
          "Player": "George Kittle",
          "ReceivingYards": 54,
          "Receptions": 8,
          "Targets": 10,
          "Team": "SF"
         },
         {
          "FantasyPoints": 9,
          "Player": "Jason Witten",
          "ReceivingYards": 15,
          "Receptions": 3,
          "Targets": 4,
          "Team": "DAL"
         },
         {
          "FantasyPoints": 8.6,
          "Player": "C.J. Uzomah",
          "ReceivingYards": 66,
          "Receptions": 4,
          "Targets": 5,
          "Team": "CIN"
         },
         {
          "FantasyPoints": 8,
          "Player": "Hunter Henry",
          "ReceivingYards": 60,
          "Receptions": 4,
          "Targets": 5,
          "Team": "LAC"
         },
         {
          "FantasyPoints": 7.9,
          "Player": "Zach Ertz",
          "ReceivingYards": 54,
          "Receptions": 5,
          "Targets": 7,
          "Team": "PHI"
         },
         {
          "FantasyPoints": 5.6,
          "Player": "Hayden Hurst",
          "ReceivingYards": 41,
          "Receptions": 3,
          "Targets": 4,
          "Team": "BAL"
         },
         {
          "FantasyPoints": 5.6,
          "Player": "Greg Olsen",
          "ReceivingYards": 36,
          "Receptions": 4,
          "Targets": 9,
          "Team": "CAR"
         },
         {
          "FantasyPoints": 5.2,
          "Player": "Tyler Eifert",
          "ReceivingYards": 27,
          "Receptions": 5,
          "Targets": 6,
          "Team": "CIN"
         },
         {
          "FantasyPoints": 5.2,
          "Player": "O.J. Howard",
          "ReceivingYards": 32,
          "Receptions": 4,
          "Targets": 5,
          "Team": "TB"
         },
         {
          "FantasyPoints": 5.2,
          "Player": "James O'Shaughnessy",
          "ReceivingYards": 32,
          "Receptions": 4,
          "Targets": 5,
          "Team": "JAC"
         },
         {
          "FantasyPoints": 5,
          "Player": "Vance McDonald",
          "ReceivingYards": 40,
          "Receptions": 2,
          "Targets": 4,
          "Team": "PIT"
         },
         {
          "FantasyPoints": 4.7,
          "Player": "Jared Cook",
          "ReceivingYards": 37,
          "Receptions": 2,
          "Targets": 3,
          "Team": "NO"
         },
         {
          "FantasyPoints": 4.5,
          "Player": "Tommy Sweeney",
          "ReceivingYards": 35,
          "Receptions": 2,
          "Targets": 2,
          "Team": "BUF"
         },
         {
          "FantasyPoints": 4.1,
          "Player": "Nick Boyle",
          "ReceivingYards": 26,
          "Receptions": 3,
          "Targets": 3,
          "Team": "BAL"
         },
         {
          "FantasyPoints": 4.1,
          "Player": "Mike Gesicki",
          "ReceivingYards": 31,
          "Receptions": 2,
          "Targets": 6,
          "Team": "MIA"
         },
         {
          "FantasyPoints": 3.7,
          "Player": "Geoff Swaim",
          "ReceivingYards": 17,
          "Receptions": 4,
          "Targets": 4,
          "Team": "JAC"
         },
         {
          "FantasyPoints": 3.4,
          "Player": "Noah Fant",
          "ReceivingYards": 29,
          "Receptions": 2,
          "Targets": 5,
          "Team": "DEN"
         },
         {
          "FantasyPoints": 3.3,
          "Player": "Robert Tonyan",
          "ReceivingYards": 28,
          "Receptions": 1,
          "Targets": 1,
          "Team": "GB"
         },
         {
          "FantasyPoints": 3,
          "Player": "Foster Moreau",
          "ReceivingYards": 20,
          "Receptions": 2,
          "Targets": 2,
          "Team": "OAK"
         },
         {
          "FantasyPoints": 2.6,
          "Player": "Dallas Goedert",
          "ReceivingYards": 16,
          "Receptions": 2,
          "Targets": 3,
          "Team": "PHI"
         },
         {
          "FantasyPoints": 2.6,
          "Player": "Nick Vannett",
          "ReceivingYards": 16,
          "Receptions": 2,
          "Targets": 2,
          "Team": "SEA"
         },
         {
          "FantasyPoints": 2.5,
          "Player": "Jack Doyle",
          "ReceivingYards": 20,
          "Receptions": 1,
          "Targets": 2,
          "Team": "IND"
         },
         {
          "FantasyPoints": 2.5,
          "Player": "Ryan Griffin",
          "ReceivingYards": 10,
          "Receptions": 3,
          "Targets": 4,
          "Team": "NYJ"
         },
         {
          "FantasyPoints": 2.4,
          "Player": "Marcedes Lewis",
          "ReceivingYards": 14,
          "Receptions": 2,
          "Targets": 3,
          "Team": "GB"
         },
         {
          "FantasyPoints": 2.2,
          "Player": "Jordan Akins",
          "ReceivingYards": 17,
          "Receptions": 1,
          "Targets": 2,
          "Team": "HOU"
         },
         {
          "FantasyPoints": 2.2,
          "Player": "Jonnu Smith",
          "ReceivingYards": 7,
          "Receptions": 1,
          "Targets": 1,
          "Team": "TEN"
         },
         {
          "FantasyPoints": 2,
          "Player": "Jesse James",
          "ReceivingYards": 15,
          "Receptions": 1,
          "Targets": 1,
          "Team": "DET"
         },
         {
          "FantasyPoints": 2,
          "Player": "Maxx Williams",
          "ReceivingYards": 15,
          "Receptions": 1,
          "Targets": 1,
          "Team": "ARI"
         },
         {
          "FantasyPoints": 1.8,
          "Player": "Cameron Brate",
          "ReceivingYards": 8,
          "Receptions": 2,
          "Targets": 2,
          "Team": "TB"
         },
         {
          "FantasyPoints": 1.7,
          "Player": "Will Dissly",
          "ReceivingYards": 12,
          "Receptions": 1,
          "Targets": 2,
          "Team": "SEA"
         },
         {
          "FantasyPoints": 1.3,
          "Player": "Eric Ebron",
          "ReceivingYards": 8,
          "Receptions": 1,
          "Targets": 3,
          "Team": "IND"
         },
         {
          "FantasyPoints": 1.3,
          "Player": "Rhett Ellison",
          "ReceivingYards": 8,
          "Receptions": 1,
          "Targets": 2,
          "Team": "NYG"
         },
         {
          "FantasyPoints": 1.3,
          "Player": "Jeremy Sprinkle",
          "ReceivingYards": 8,
          "Receptions": 1,
          "Targets": 1,
          "Team": "WAS"
         },
         {
          "FantasyPoints": 1.2,
          "Player": "Blake Bell",
          "ReceivingYards": 7,
          "Receptions": 1,
          "Targets": 1,
          "Team": "KC"
         },
         {
          "FantasyPoints": 1.2,
          "Player": "Gerald Everett",
          "ReceivingYards": 7,
          "Receptions": 1,
          "Targets": 1,
          "Team": "LAR"
         },
         {
          "FantasyPoints": 1.1,
          "Player": "Adam Shaheen",
          "ReceivingYards": 6,
          "Receptions": 1,
          "Targets": 2,
          "Team": "CHI"
         },
         {
          "FantasyPoints": 1,
          "Player": "Charles Clay",
          "ReceivingYards": 5,
          "Receptions": 1,
          "Targets": 1,
          "Team": "ARI"
         },
         {
          "FantasyPoints": 0.9,
          "Player": "Virgil Green",
          "ReceivingYards": 4,
          "Receptions": 1,
          "Targets": 1,
          "Team": "LAC"
         },
         {
          "FantasyPoints": 0.8,
          "Player": "Mo Alie-Cox",
          "ReceivingYards": 3,
          "Receptions": 1,
          "Targets": 1,
          "Team": "IND"
         },
         {
          "FantasyPoints": 0.8,
          "Player": "Ryan Izzo",
          "ReceivingYards": 3,
          "Receptions": 1,
          "Targets": 2,
          "Team": "NE"
         },
         {
          "FantasyPoints": 0.6,
          "Player": "Dawson Knox",
          "ReceivingYards": 1,
          "Receptions": 1,
          "Targets": 2,
          "Team": "BUF"
         }
        ]
       },
       "encoding": {
        "color": {
         "field": "Team",
         "scale": {
          "domain": [
           "ARI",
           "ATL",
           "BAL",
           "BUF",
           "CAR",
           "CHI",
           "CIN",
           "CLE",
           "DAL",
           "DEN",
           "DET",
           "GB",
           "HOU",
           "IND",
           "JAC",
           "KC",
           "LAC",
           "LAR",
           "MIA",
           "NE",
           "NO",
           "NYG",
           "NYJ",
           "OAK",
           "PHI",
           "PIT",
           "SEA",
           "SF",
           "TB",
           "TEN",
           "WAS"
          ],
          "range": [
           "#97233F",
           "#A71930",
           "#241773",
           "#00338D",
           "#0085CA",
           "#C83803",
           "#FB4F14",
           "#311D00",
           "#869397",
           "#FB4F14",
           "#0076B6",
           "#203731",
           "#03202F",
           "#002C5F",
           "#006778",
           "#E31837",
           "#FFC20E",
           "#866D4B",
           "#FC4C02",
           "#002244",
           "#D3BC8D",
           "#0B2265",
           "#125740",
           "#000000",
           "#004C54",
           "#FFB612",
           "#69BE28",
           "#AA0000",
           "#D50A0A",
           "#418FDE",
           "#773141"
          ]
         },
         "type": "nominal"
        },
        "x": {
         "axis": {
          "labelAngle": -45,
          "title": ""
         },
         "field": "Player",
         "sort": {
          "field": "ReceivingYards",
          "op": "sum",
          "order": "descending"
         },
         "type": "nominal"
        },
        "y": {
         "axis": {
          "title": "Receiving Yards"
         },
         "field": "ReceivingYards",
         "type": "quantitative"
        }
       },
       "mark": "bar",
       "title": "Week 1: Receiving Yards by Tight Ends"
      },
      "image/png": "[encoded data removed]",
      "text/plain": [
       "<VegaLite 3 object>\n",
       "\n",
       "If you see this message, it means the renderer has not been properly enabled\n",
       "for the frontend that you are using. For more information, see\n",
       "https://altair-viz.github.io/user_guide/troubleshooting.html\n"
      ]
     },
     "execution_count": 17,
     "metadata": {},
     "output_type": "execute_result"
    }
   ],
   "source": [
    "chart"
   ]
  },
  {
   "cell_type": "code",
   "execution_count": 18,
   "metadata": {},
   "outputs": [],
   "source": [
    "chart.save(PATH + 'plots/TE_receivingyards_color.png', scale_factor=3.0)"
   ]
  },
  {
   "cell_type": "code",
   "execution_count": 19,
   "metadata": {},
   "outputs": [],
   "source": [
    "chart = alt.Chart(data).mark_bar().encode(\n",
    "    alt.Y(\n",
    "        'ReceivingYards:Q',\n",
    "        axis = alt.Axis(title = 'Receiving Yards')\n",
    "    ),\n",
    "    alt.X(\n",
    "        'Player:N',\n",
    "        sort = alt.EncodingSortField(\n",
    "            field = 'ReceivingYards',\n",
    "            op = 'sum',\n",
    "            order = 'descending'\n",
    "          ),\n",
    "        axis = alt.Axis(title = '', labelAngle = -45)\n",
    "    )\n",
    ").properties(title = 'Week 1: Receiving Yards by Tight Ends')"
   ]
  },
  {
   "cell_type": "code",
   "execution_count": 20,
   "metadata": {},
   "outputs": [
    {
     "data": {
      "application/vnd.vegalite.v3+json": {
       "$schema": "https://vega.github.io/schema/vega-lite/v3.4.0.json",
       "config": {
        "background": "white",
        "mark": {
         "tooltip": null
        },
        "view": {
         "height": 300,
         "width": 400
        }
       },
       "data": {
        "name": "data-ab3aff318d0f9b16f5519f1e79c6fd4f"
       },
       "datasets": {
        "data-ab3aff318d0f9b16f5519f1e79c6fd4f": [
         {
          "FantasyPoints": 23.1,
          "Player": "Evan Engram",
          "ReceivingYards": 116,
          "Receptions": 11,
          "Targets": 14,
          "Team": "NYG"
         },
         {
          "FantasyPoints": 22.1,
          "Player": "T.J. Hockenson",
          "ReceivingYards": 131,
          "Receptions": 6,
          "Targets": 9,
          "Team": "DET"
         },
         {
          "FantasyPoints": 20.8,
          "Player": "Mark Andrews",
          "ReceivingYards": 108,
          "Receptions": 8,
          "Targets": 8,
          "Team": "BAL"
         },
         {
          "FantasyPoints": 20,
          "Player": "Delanie Walker",
          "ReceivingYards": 55,
          "Receptions": 5,
          "Targets": 6,
          "Team": "TEN"
         },
         {
          "FantasyPoints": 13.9,
          "Player": "Vernon Davis",
          "ReceivingYards": 59,
          "Receptions": 4,
          "Targets": 7,
          "Team": "WAS"
         },
         {
          "FantasyPoints": 12.2,
          "Player": "Austin Hooper",
          "ReceivingYards": 77,
          "Receptions": 9,
          "Targets": 9,
          "Team": "ATL"
         },
         {
          "FantasyPoints": 11.7,
          "Player": "David Njoku",
          "ReceivingYards": 37,
          "Receptions": 4,
          "Targets": 6,
          "Team": "CLE"
         },
         {
          "FantasyPoints": 11.4,
          "Player": "Blake Jarwin",
          "ReceivingYards": 39,
          "Receptions": 3,
          "Targets": 3,
          "Team": "DAL"
         },
         {
          "FantasyPoints": 10.5,
          "Player": "Jimmy Graham",
          "ReceivingYards": 30,
          "Receptions": 3,
          "Targets": 6,
          "Team": "GB"
         },
         {
          "FantasyPoints": 10.5,
          "Player": "Darren Waller",
          "ReceivingYards": 70,
          "Receptions": 7,
          "Targets": 8,
          "Team": "OAK"
         },
         {
          "FantasyPoints": 10.3,
          "Player": "Travis Kelce",
          "ReceivingYards": 88,
          "Receptions": 3,
          "Targets": 8,
          "Team": "KC"
         },
         {
          "FantasyPoints": 10,
          "Player": "Tyler Higbee",
          "ReceivingYards": 20,
          "Receptions": 4,
          "Targets": 5,
          "Team": "LAR"
         },
         {
          "FantasyPoints": 9.4,
          "Player": "George Kittle",
          "ReceivingYards": 54,
          "Receptions": 8,
          "Targets": 10,
          "Team": "SF"
         },
         {
          "FantasyPoints": 9,
          "Player": "Jason Witten",
          "ReceivingYards": 15,
          "Receptions": 3,
          "Targets": 4,
          "Team": "DAL"
         },
         {
          "FantasyPoints": 8.6,
          "Player": "C.J. Uzomah",
          "ReceivingYards": 66,
          "Receptions": 4,
          "Targets": 5,
          "Team": "CIN"
         },
         {
          "FantasyPoints": 8,
          "Player": "Hunter Henry",
          "ReceivingYards": 60,
          "Receptions": 4,
          "Targets": 5,
          "Team": "LAC"
         },
         {
          "FantasyPoints": 7.9,
          "Player": "Zach Ertz",
          "ReceivingYards": 54,
          "Receptions": 5,
          "Targets": 7,
          "Team": "PHI"
         },
         {
          "FantasyPoints": 5.6,
          "Player": "Hayden Hurst",
          "ReceivingYards": 41,
          "Receptions": 3,
          "Targets": 4,
          "Team": "BAL"
         },
         {
          "FantasyPoints": 5.6,
          "Player": "Greg Olsen",
          "ReceivingYards": 36,
          "Receptions": 4,
          "Targets": 9,
          "Team": "CAR"
         },
         {
          "FantasyPoints": 5.2,
          "Player": "Tyler Eifert",
          "ReceivingYards": 27,
          "Receptions": 5,
          "Targets": 6,
          "Team": "CIN"
         },
         {
          "FantasyPoints": 5.2,
          "Player": "O.J. Howard",
          "ReceivingYards": 32,
          "Receptions": 4,
          "Targets": 5,
          "Team": "TB"
         },
         {
          "FantasyPoints": 5.2,
          "Player": "James O'Shaughnessy",
          "ReceivingYards": 32,
          "Receptions": 4,
          "Targets": 5,
          "Team": "JAC"
         },
         {
          "FantasyPoints": 5,
          "Player": "Vance McDonald",
          "ReceivingYards": 40,
          "Receptions": 2,
          "Targets": 4,
          "Team": "PIT"
         },
         {
          "FantasyPoints": 4.7,
          "Player": "Jared Cook",
          "ReceivingYards": 37,
          "Receptions": 2,
          "Targets": 3,
          "Team": "NO"
         },
         {
          "FantasyPoints": 4.5,
          "Player": "Tommy Sweeney",
          "ReceivingYards": 35,
          "Receptions": 2,
          "Targets": 2,
          "Team": "BUF"
         },
         {
          "FantasyPoints": 4.1,
          "Player": "Nick Boyle",
          "ReceivingYards": 26,
          "Receptions": 3,
          "Targets": 3,
          "Team": "BAL"
         },
         {
          "FantasyPoints": 4.1,
          "Player": "Mike Gesicki",
          "ReceivingYards": 31,
          "Receptions": 2,
          "Targets": 6,
          "Team": "MIA"
         },
         {
          "FantasyPoints": 3.7,
          "Player": "Geoff Swaim",
          "ReceivingYards": 17,
          "Receptions": 4,
          "Targets": 4,
          "Team": "JAC"
         },
         {
          "FantasyPoints": 3.4,
          "Player": "Noah Fant",
          "ReceivingYards": 29,
          "Receptions": 2,
          "Targets": 5,
          "Team": "DEN"
         },
         {
          "FantasyPoints": 3.3,
          "Player": "Robert Tonyan",
          "ReceivingYards": 28,
          "Receptions": 1,
          "Targets": 1,
          "Team": "GB"
         },
         {
          "FantasyPoints": 3,
          "Player": "Foster Moreau",
          "ReceivingYards": 20,
          "Receptions": 2,
          "Targets": 2,
          "Team": "OAK"
         },
         {
          "FantasyPoints": 2.6,
          "Player": "Dallas Goedert",
          "ReceivingYards": 16,
          "Receptions": 2,
          "Targets": 3,
          "Team": "PHI"
         },
         {
          "FantasyPoints": 2.6,
          "Player": "Nick Vannett",
          "ReceivingYards": 16,
          "Receptions": 2,
          "Targets": 2,
          "Team": "SEA"
         },
         {
          "FantasyPoints": 2.5,
          "Player": "Jack Doyle",
          "ReceivingYards": 20,
          "Receptions": 1,
          "Targets": 2,
          "Team": "IND"
         },
         {
          "FantasyPoints": 2.5,
          "Player": "Ryan Griffin",
          "ReceivingYards": 10,
          "Receptions": 3,
          "Targets": 4,
          "Team": "NYJ"
         },
         {
          "FantasyPoints": 2.4,
          "Player": "Marcedes Lewis",
          "ReceivingYards": 14,
          "Receptions": 2,
          "Targets": 3,
          "Team": "GB"
         },
         {
          "FantasyPoints": 2.2,
          "Player": "Jordan Akins",
          "ReceivingYards": 17,
          "Receptions": 1,
          "Targets": 2,
          "Team": "HOU"
         },
         {
          "FantasyPoints": 2.2,
          "Player": "Jonnu Smith",
          "ReceivingYards": 7,
          "Receptions": 1,
          "Targets": 1,
          "Team": "TEN"
         },
         {
          "FantasyPoints": 2,
          "Player": "Jesse James",
          "ReceivingYards": 15,
          "Receptions": 1,
          "Targets": 1,
          "Team": "DET"
         },
         {
          "FantasyPoints": 2,
          "Player": "Maxx Williams",
          "ReceivingYards": 15,
          "Receptions": 1,
          "Targets": 1,
          "Team": "ARI"
         },
         {
          "FantasyPoints": 1.8,
          "Player": "Cameron Brate",
          "ReceivingYards": 8,
          "Receptions": 2,
          "Targets": 2,
          "Team": "TB"
         },
         {
          "FantasyPoints": 1.7,
          "Player": "Will Dissly",
          "ReceivingYards": 12,
          "Receptions": 1,
          "Targets": 2,
          "Team": "SEA"
         },
         {
          "FantasyPoints": 1.3,
          "Player": "Eric Ebron",
          "ReceivingYards": 8,
          "Receptions": 1,
          "Targets": 3,
          "Team": "IND"
         },
         {
          "FantasyPoints": 1.3,
          "Player": "Rhett Ellison",
          "ReceivingYards": 8,
          "Receptions": 1,
          "Targets": 2,
          "Team": "NYG"
         },
         {
          "FantasyPoints": 1.3,
          "Player": "Jeremy Sprinkle",
          "ReceivingYards": 8,
          "Receptions": 1,
          "Targets": 1,
          "Team": "WAS"
         },
         {
          "FantasyPoints": 1.2,
          "Player": "Blake Bell",
          "ReceivingYards": 7,
          "Receptions": 1,
          "Targets": 1,
          "Team": "KC"
         },
         {
          "FantasyPoints": 1.2,
          "Player": "Gerald Everett",
          "ReceivingYards": 7,
          "Receptions": 1,
          "Targets": 1,
          "Team": "LAR"
         },
         {
          "FantasyPoints": 1.1,
          "Player": "Adam Shaheen",
          "ReceivingYards": 6,
          "Receptions": 1,
          "Targets": 2,
          "Team": "CHI"
         },
         {
          "FantasyPoints": 1,
          "Player": "Charles Clay",
          "ReceivingYards": 5,
          "Receptions": 1,
          "Targets": 1,
          "Team": "ARI"
         },
         {
          "FantasyPoints": 0.9,
          "Player": "Virgil Green",
          "ReceivingYards": 4,
          "Receptions": 1,
          "Targets": 1,
          "Team": "LAC"
         },
         {
          "FantasyPoints": 0.8,
          "Player": "Mo Alie-Cox",
          "ReceivingYards": 3,
          "Receptions": 1,
          "Targets": 1,
          "Team": "IND"
         },
         {
          "FantasyPoints": 0.8,
          "Player": "Ryan Izzo",
          "ReceivingYards": 3,
          "Receptions": 1,
          "Targets": 2,
          "Team": "NE"
         },
         {
          "FantasyPoints": 0.6,
          "Player": "Dawson Knox",
          "ReceivingYards": 1,
          "Receptions": 1,
          "Targets": 2,
          "Team": "BUF"
         }
        ]
       },
       "encoding": {
        "x": {
         "axis": {
          "labelAngle": -45,
          "title": ""
         },
         "field": "Player",
         "sort": {
          "field": "ReceivingYards",
          "op": "sum",
          "order": "descending"
         },
         "type": "nominal"
        },
        "y": {
         "axis": {
          "title": "Receiving Yards"
         },
         "field": "ReceivingYards",
         "type": "quantitative"
        }
       },
       "mark": "bar",
       "title": "Week 1: Receiving Yards by Tight Ends"
      },
      "image/png": "[encoded data removed]",
      "text/plain": [
       "<VegaLite 3 object>\n",
       "\n",
       "If you see this message, it means the renderer has not been properly enabled\n",
       "for the frontend that you are using. For more information, see\n",
       "https://altair-viz.github.io/user_guide/troubleshooting.html\n"
      ]
     },
     "execution_count": 20,
     "metadata": {},
     "output_type": "execute_result"
    }
   ],
   "source": [
    "chart"
   ]
  },
  {
   "cell_type": "code",
   "execution_count": 21,
   "metadata": {},
   "outputs": [],
   "source": [
    "chart.save(PATH + 'plots/TE_receivingyards_plain.png', scale_factor=3.0)"
   ]
  },
  {
   "cell_type": "markdown",
   "metadata": {},
   "source": [
    "## Targets"
   ]
  },
  {
   "cell_type": "code",
   "execution_count": 22,
   "metadata": {},
   "outputs": [],
   "source": [
    "chart = alt.Chart(data).mark_bar().encode(\n",
    "    alt.Y(\n",
    "        'Targets:Q',\n",
    "        axis = alt.Axis(title = 'Targets')\n",
    "    ),\n",
    "    alt.X(\n",
    "        'Player:N',\n",
    "        sort = alt.EncodingSortField(\n",
    "            field = 'Targets',\n",
    "            op = 'sum',\n",
    "            order = 'descending'\n",
    "          ),\n",
    "        axis = alt.Axis(title = '', labelAngle = -45)\n",
    "    ),\n",
    "    color = alt.Color(\n",
    "        'Team:N',\n",
    "        scale = alt.Scale(\n",
    "            domain = teams,\n",
    "            range = color_codes        \n",
    "        )\n",
    "    )\n",
    ").properties(title = 'Week 1: Targets for Tight Ends')"
   ]
  },
  {
   "cell_type": "code",
   "execution_count": 23,
   "metadata": {},
   "outputs": [
    {
     "data": {
      "application/vnd.vegalite.v3+json": {
       "$schema": "https://vega.github.io/schema/vega-lite/v3.4.0.json",
       "config": {
        "background": "white",
        "mark": {
         "tooltip": null
        },
        "view": {
         "height": 300,
         "width": 400
        }
       },
       "data": {
        "name": "data-ab3aff318d0f9b16f5519f1e79c6fd4f"
       },
       "datasets": {
        "data-ab3aff318d0f9b16f5519f1e79c6fd4f": [
         {
          "FantasyPoints": 23.1,
          "Player": "Evan Engram",
          "ReceivingYards": 116,
          "Receptions": 11,
          "Targets": 14,
          "Team": "NYG"
         },
         {
          "FantasyPoints": 22.1,
          "Player": "T.J. Hockenson",
          "ReceivingYards": 131,
          "Receptions": 6,
          "Targets": 9,
          "Team": "DET"
         },
         {
          "FantasyPoints": 20.8,
          "Player": "Mark Andrews",
          "ReceivingYards": 108,
          "Receptions": 8,
          "Targets": 8,
          "Team": "BAL"
         },
         {
          "FantasyPoints": 20,
          "Player": "Delanie Walker",
          "ReceivingYards": 55,
          "Receptions": 5,
          "Targets": 6,
          "Team": "TEN"
         },
         {
          "FantasyPoints": 13.9,
          "Player": "Vernon Davis",
          "ReceivingYards": 59,
          "Receptions": 4,
          "Targets": 7,
          "Team": "WAS"
         },
         {
          "FantasyPoints": 12.2,
          "Player": "Austin Hooper",
          "ReceivingYards": 77,
          "Receptions": 9,
          "Targets": 9,
          "Team": "ATL"
         },
         {
          "FantasyPoints": 11.7,
          "Player": "David Njoku",
          "ReceivingYards": 37,
          "Receptions": 4,
          "Targets": 6,
          "Team": "CLE"
         },
         {
          "FantasyPoints": 11.4,
          "Player": "Blake Jarwin",
          "ReceivingYards": 39,
          "Receptions": 3,
          "Targets": 3,
          "Team": "DAL"
         },
         {
          "FantasyPoints": 10.5,
          "Player": "Jimmy Graham",
          "ReceivingYards": 30,
          "Receptions": 3,
          "Targets": 6,
          "Team": "GB"
         },
         {
          "FantasyPoints": 10.5,
          "Player": "Darren Waller",
          "ReceivingYards": 70,
          "Receptions": 7,
          "Targets": 8,
          "Team": "OAK"
         },
         {
          "FantasyPoints": 10.3,
          "Player": "Travis Kelce",
          "ReceivingYards": 88,
          "Receptions": 3,
          "Targets": 8,
          "Team": "KC"
         },
         {
          "FantasyPoints": 10,
          "Player": "Tyler Higbee",
          "ReceivingYards": 20,
          "Receptions": 4,
          "Targets": 5,
          "Team": "LAR"
         },
         {
          "FantasyPoints": 9.4,
          "Player": "George Kittle",
          "ReceivingYards": 54,
          "Receptions": 8,
          "Targets": 10,
          "Team": "SF"
         },
         {
          "FantasyPoints": 9,
          "Player": "Jason Witten",
          "ReceivingYards": 15,
          "Receptions": 3,
          "Targets": 4,
          "Team": "DAL"
         },
         {
          "FantasyPoints": 8.6,
          "Player": "C.J. Uzomah",
          "ReceivingYards": 66,
          "Receptions": 4,
          "Targets": 5,
          "Team": "CIN"
         },
         {
          "FantasyPoints": 8,
          "Player": "Hunter Henry",
          "ReceivingYards": 60,
          "Receptions": 4,
          "Targets": 5,
          "Team": "LAC"
         },
         {
          "FantasyPoints": 7.9,
          "Player": "Zach Ertz",
          "ReceivingYards": 54,
          "Receptions": 5,
          "Targets": 7,
          "Team": "PHI"
         },
         {
          "FantasyPoints": 5.6,
          "Player": "Hayden Hurst",
          "ReceivingYards": 41,
          "Receptions": 3,
          "Targets": 4,
          "Team": "BAL"
         },
         {
          "FantasyPoints": 5.6,
          "Player": "Greg Olsen",
          "ReceivingYards": 36,
          "Receptions": 4,
          "Targets": 9,
          "Team": "CAR"
         },
         {
          "FantasyPoints": 5.2,
          "Player": "Tyler Eifert",
          "ReceivingYards": 27,
          "Receptions": 5,
          "Targets": 6,
          "Team": "CIN"
         },
         {
          "FantasyPoints": 5.2,
          "Player": "O.J. Howard",
          "ReceivingYards": 32,
          "Receptions": 4,
          "Targets": 5,
          "Team": "TB"
         },
         {
          "FantasyPoints": 5.2,
          "Player": "James O'Shaughnessy",
          "ReceivingYards": 32,
          "Receptions": 4,
          "Targets": 5,
          "Team": "JAC"
         },
         {
          "FantasyPoints": 5,
          "Player": "Vance McDonald",
          "ReceivingYards": 40,
          "Receptions": 2,
          "Targets": 4,
          "Team": "PIT"
         },
         {
          "FantasyPoints": 4.7,
          "Player": "Jared Cook",
          "ReceivingYards": 37,
          "Receptions": 2,
          "Targets": 3,
          "Team": "NO"
         },
         {
          "FantasyPoints": 4.5,
          "Player": "Tommy Sweeney",
          "ReceivingYards": 35,
          "Receptions": 2,
          "Targets": 2,
          "Team": "BUF"
         },
         {
          "FantasyPoints": 4.1,
          "Player": "Nick Boyle",
          "ReceivingYards": 26,
          "Receptions": 3,
          "Targets": 3,
          "Team": "BAL"
         },
         {
          "FantasyPoints": 4.1,
          "Player": "Mike Gesicki",
          "ReceivingYards": 31,
          "Receptions": 2,
          "Targets": 6,
          "Team": "MIA"
         },
         {
          "FantasyPoints": 3.7,
          "Player": "Geoff Swaim",
          "ReceivingYards": 17,
          "Receptions": 4,
          "Targets": 4,
          "Team": "JAC"
         },
         {
          "FantasyPoints": 3.4,
          "Player": "Noah Fant",
          "ReceivingYards": 29,
          "Receptions": 2,
          "Targets": 5,
          "Team": "DEN"
         },
         {
          "FantasyPoints": 3.3,
          "Player": "Robert Tonyan",
          "ReceivingYards": 28,
          "Receptions": 1,
          "Targets": 1,
          "Team": "GB"
         },
         {
          "FantasyPoints": 3,
          "Player": "Foster Moreau",
          "ReceivingYards": 20,
          "Receptions": 2,
          "Targets": 2,
          "Team": "OAK"
         },
         {
          "FantasyPoints": 2.6,
          "Player": "Dallas Goedert",
          "ReceivingYards": 16,
          "Receptions": 2,
          "Targets": 3,
          "Team": "PHI"
         },
         {
          "FantasyPoints": 2.6,
          "Player": "Nick Vannett",
          "ReceivingYards": 16,
          "Receptions": 2,
          "Targets": 2,
          "Team": "SEA"
         },
         {
          "FantasyPoints": 2.5,
          "Player": "Jack Doyle",
          "ReceivingYards": 20,
          "Receptions": 1,
          "Targets": 2,
          "Team": "IND"
         },
         {
          "FantasyPoints": 2.5,
          "Player": "Ryan Griffin",
          "ReceivingYards": 10,
          "Receptions": 3,
          "Targets": 4,
          "Team": "NYJ"
         },
         {
          "FantasyPoints": 2.4,
          "Player": "Marcedes Lewis",
          "ReceivingYards": 14,
          "Receptions": 2,
          "Targets": 3,
          "Team": "GB"
         },
         {
          "FantasyPoints": 2.2,
          "Player": "Jordan Akins",
          "ReceivingYards": 17,
          "Receptions": 1,
          "Targets": 2,
          "Team": "HOU"
         },
         {
          "FantasyPoints": 2.2,
          "Player": "Jonnu Smith",
          "ReceivingYards": 7,
          "Receptions": 1,
          "Targets": 1,
          "Team": "TEN"
         },
         {
          "FantasyPoints": 2,
          "Player": "Jesse James",
          "ReceivingYards": 15,
          "Receptions": 1,
          "Targets": 1,
          "Team": "DET"
         },
         {
          "FantasyPoints": 2,
          "Player": "Maxx Williams",
          "ReceivingYards": 15,
          "Receptions": 1,
          "Targets": 1,
          "Team": "ARI"
         },
         {
          "FantasyPoints": 1.8,
          "Player": "Cameron Brate",
          "ReceivingYards": 8,
          "Receptions": 2,
          "Targets": 2,
          "Team": "TB"
         },
         {
          "FantasyPoints": 1.7,
          "Player": "Will Dissly",
          "ReceivingYards": 12,
          "Receptions": 1,
          "Targets": 2,
          "Team": "SEA"
         },
         {
          "FantasyPoints": 1.3,
          "Player": "Eric Ebron",
          "ReceivingYards": 8,
          "Receptions": 1,
          "Targets": 3,
          "Team": "IND"
         },
         {
          "FantasyPoints": 1.3,
          "Player": "Rhett Ellison",
          "ReceivingYards": 8,
          "Receptions": 1,
          "Targets": 2,
          "Team": "NYG"
         },
         {
          "FantasyPoints": 1.3,
          "Player": "Jeremy Sprinkle",
          "ReceivingYards": 8,
          "Receptions": 1,
          "Targets": 1,
          "Team": "WAS"
         },
         {
          "FantasyPoints": 1.2,
          "Player": "Blake Bell",
          "ReceivingYards": 7,
          "Receptions": 1,
          "Targets": 1,
          "Team": "KC"
         },
         {
          "FantasyPoints": 1.2,
          "Player": "Gerald Everett",
          "ReceivingYards": 7,
          "Receptions": 1,
          "Targets": 1,
          "Team": "LAR"
         },
         {
          "FantasyPoints": 1.1,
          "Player": "Adam Shaheen",
          "ReceivingYards": 6,
          "Receptions": 1,
          "Targets": 2,
          "Team": "CHI"
         },
         {
          "FantasyPoints": 1,
          "Player": "Charles Clay",
          "ReceivingYards": 5,
          "Receptions": 1,
          "Targets": 1,
          "Team": "ARI"
         },
         {
          "FantasyPoints": 0.9,
          "Player": "Virgil Green",
          "ReceivingYards": 4,
          "Receptions": 1,
          "Targets": 1,
          "Team": "LAC"
         },
         {
          "FantasyPoints": 0.8,
          "Player": "Mo Alie-Cox",
          "ReceivingYards": 3,
          "Receptions": 1,
          "Targets": 1,
          "Team": "IND"
         },
         {
          "FantasyPoints": 0.8,
          "Player": "Ryan Izzo",
          "ReceivingYards": 3,
          "Receptions": 1,
          "Targets": 2,
          "Team": "NE"
         },
         {
          "FantasyPoints": 0.6,
          "Player": "Dawson Knox",
          "ReceivingYards": 1,
          "Receptions": 1,
          "Targets": 2,
          "Team": "BUF"
         }
        ]
       },
       "encoding": {
        "color": {
         "field": "Team",
         "scale": {
          "domain": [
           "ARI",
           "ATL",
           "BAL",
           "BUF",
           "CAR",
           "CHI",
           "CIN",
           "CLE",
           "DAL",
           "DEN",
           "DET",
           "GB",
           "HOU",
           "IND",
           "JAC",
           "KC",
           "LAC",
           "LAR",
           "MIA",
           "NE",
           "NO",
           "NYG",
           "NYJ",
           "OAK",
           "PHI",
           "PIT",
           "SEA",
           "SF",
           "TB",
           "TEN",
           "WAS"
          ],
          "range": [
           "#97233F",
           "#A71930",
           "#241773",
           "#00338D",
           "#0085CA",
           "#C83803",
           "#FB4F14",
           "#311D00",
           "#869397",
           "#FB4F14",
           "#0076B6",
           "#203731",
           "#03202F",
           "#002C5F",
           "#006778",
           "#E31837",
           "#FFC20E",
           "#866D4B",
           "#FC4C02",
           "#002244",
           "#D3BC8D",
           "#0B2265",
           "#125740",
           "#000000",
           "#004C54",
           "#FFB612",
           "#69BE28",
           "#AA0000",
           "#D50A0A",
           "#418FDE",
           "#773141"
          ]
         },
         "type": "nominal"
        },
        "x": {
         "axis": {
          "labelAngle": -45,
          "title": ""
         },
         "field": "Player",
         "sort": {
          "field": "Targets",
          "op": "sum",
          "order": "descending"
         },
         "type": "nominal"
        },
        "y": {
         "axis": {
          "title": "Targets"
         },
         "field": "Targets",
         "type": "quantitative"
        }
       },
       "mark": "bar",
       "title": "Week 1: Targets for Tight Ends"
      },
      "image/png": "[encoded data removed]",
      "text/plain": [
       "<VegaLite 3 object>\n",
       "\n",
       "If you see this message, it means the renderer has not been properly enabled\n",
       "for the frontend that you are using. For more information, see\n",
       "https://altair-viz.github.io/user_guide/troubleshooting.html\n"
      ]
     },
     "execution_count": 23,
     "metadata": {},
     "output_type": "execute_result"
    }
   ],
   "source": [
    "chart"
   ]
  },
  {
   "cell_type": "code",
   "execution_count": 24,
   "metadata": {},
   "outputs": [],
   "source": [
    "chart.save(PATH + 'plots/TE_targets_color.png', scale_factor=3.0)"
   ]
  },
  {
   "cell_type": "code",
   "execution_count": 25,
   "metadata": {},
   "outputs": [],
   "source": [
    "chart = alt.Chart(data).mark_bar().encode(\n",
    "    alt.Y(\n",
    "        'Targets:Q',\n",
    "        axis = alt.Axis(title = 'Targets')\n",
    "    ),\n",
    "    alt.X(\n",
    "        'Player:N',\n",
    "        sort = alt.EncodingSortField(\n",
    "            field = 'Targets',\n",
    "            op = 'sum',\n",
    "            order = 'descending'\n",
    "          ),\n",
    "        axis = alt.Axis(title = '', labelAngle = -45)\n",
    "    )\n",
    ").properties(title = 'Week 1: Targets for Tight Ends')"
   ]
  },
  {
   "cell_type": "code",
   "execution_count": 26,
   "metadata": {},
   "outputs": [
    {
     "data": {
      "application/vnd.vegalite.v3+json": {
       "$schema": "https://vega.github.io/schema/vega-lite/v3.4.0.json",
       "config": {
        "background": "white",
        "mark": {
         "tooltip": null
        },
        "view": {
         "height": 300,
         "width": 400
        }
       },
       "data": {
        "name": "data-ab3aff318d0f9b16f5519f1e79c6fd4f"
       },
       "datasets": {
        "data-ab3aff318d0f9b16f5519f1e79c6fd4f": [
         {
          "FantasyPoints": 23.1,
          "Player": "Evan Engram",
          "ReceivingYards": 116,
          "Receptions": 11,
          "Targets": 14,
          "Team": "NYG"
         },
         {
          "FantasyPoints": 22.1,
          "Player": "T.J. Hockenson",
          "ReceivingYards": 131,
          "Receptions": 6,
          "Targets": 9,
          "Team": "DET"
         },
         {
          "FantasyPoints": 20.8,
          "Player": "Mark Andrews",
          "ReceivingYards": 108,
          "Receptions": 8,
          "Targets": 8,
          "Team": "BAL"
         },
         {
          "FantasyPoints": 20,
          "Player": "Delanie Walker",
          "ReceivingYards": 55,
          "Receptions": 5,
          "Targets": 6,
          "Team": "TEN"
         },
         {
          "FantasyPoints": 13.9,
          "Player": "Vernon Davis",
          "ReceivingYards": 59,
          "Receptions": 4,
          "Targets": 7,
          "Team": "WAS"
         },
         {
          "FantasyPoints": 12.2,
          "Player": "Austin Hooper",
          "ReceivingYards": 77,
          "Receptions": 9,
          "Targets": 9,
          "Team": "ATL"
         },
         {
          "FantasyPoints": 11.7,
          "Player": "David Njoku",
          "ReceivingYards": 37,
          "Receptions": 4,
          "Targets": 6,
          "Team": "CLE"
         },
         {
          "FantasyPoints": 11.4,
          "Player": "Blake Jarwin",
          "ReceivingYards": 39,
          "Receptions": 3,
          "Targets": 3,
          "Team": "DAL"
         },
         {
          "FantasyPoints": 10.5,
          "Player": "Jimmy Graham",
          "ReceivingYards": 30,
          "Receptions": 3,
          "Targets": 6,
          "Team": "GB"
         },
         {
          "FantasyPoints": 10.5,
          "Player": "Darren Waller",
          "ReceivingYards": 70,
          "Receptions": 7,
          "Targets": 8,
          "Team": "OAK"
         },
         {
          "FantasyPoints": 10.3,
          "Player": "Travis Kelce",
          "ReceivingYards": 88,
          "Receptions": 3,
          "Targets": 8,
          "Team": "KC"
         },
         {
          "FantasyPoints": 10,
          "Player": "Tyler Higbee",
          "ReceivingYards": 20,
          "Receptions": 4,
          "Targets": 5,
          "Team": "LAR"
         },
         {
          "FantasyPoints": 9.4,
          "Player": "George Kittle",
          "ReceivingYards": 54,
          "Receptions": 8,
          "Targets": 10,
          "Team": "SF"
         },
         {
          "FantasyPoints": 9,
          "Player": "Jason Witten",
          "ReceivingYards": 15,
          "Receptions": 3,
          "Targets": 4,
          "Team": "DAL"
         },
         {
          "FantasyPoints": 8.6,
          "Player": "C.J. Uzomah",
          "ReceivingYards": 66,
          "Receptions": 4,
          "Targets": 5,
          "Team": "CIN"
         },
         {
          "FantasyPoints": 8,
          "Player": "Hunter Henry",
          "ReceivingYards": 60,
          "Receptions": 4,
          "Targets": 5,
          "Team": "LAC"
         },
         {
          "FantasyPoints": 7.9,
          "Player": "Zach Ertz",
          "ReceivingYards": 54,
          "Receptions": 5,
          "Targets": 7,
          "Team": "PHI"
         },
         {
          "FantasyPoints": 5.6,
          "Player": "Hayden Hurst",
          "ReceivingYards": 41,
          "Receptions": 3,
          "Targets": 4,
          "Team": "BAL"
         },
         {
          "FantasyPoints": 5.6,
          "Player": "Greg Olsen",
          "ReceivingYards": 36,
          "Receptions": 4,
          "Targets": 9,
          "Team": "CAR"
         },
         {
          "FantasyPoints": 5.2,
          "Player": "Tyler Eifert",
          "ReceivingYards": 27,
          "Receptions": 5,
          "Targets": 6,
          "Team": "CIN"
         },
         {
          "FantasyPoints": 5.2,
          "Player": "O.J. Howard",
          "ReceivingYards": 32,
          "Receptions": 4,
          "Targets": 5,
          "Team": "TB"
         },
         {
          "FantasyPoints": 5.2,
          "Player": "James O'Shaughnessy",
          "ReceivingYards": 32,
          "Receptions": 4,
          "Targets": 5,
          "Team": "JAC"
         },
         {
          "FantasyPoints": 5,
          "Player": "Vance McDonald",
          "ReceivingYards": 40,
          "Receptions": 2,
          "Targets": 4,
          "Team": "PIT"
         },
         {
          "FantasyPoints": 4.7,
          "Player": "Jared Cook",
          "ReceivingYards": 37,
          "Receptions": 2,
          "Targets": 3,
          "Team": "NO"
         },
         {
          "FantasyPoints": 4.5,
          "Player": "Tommy Sweeney",
          "ReceivingYards": 35,
          "Receptions": 2,
          "Targets": 2,
          "Team": "BUF"
         },
         {
          "FantasyPoints": 4.1,
          "Player": "Nick Boyle",
          "ReceivingYards": 26,
          "Receptions": 3,
          "Targets": 3,
          "Team": "BAL"
         },
         {
          "FantasyPoints": 4.1,
          "Player": "Mike Gesicki",
          "ReceivingYards": 31,
          "Receptions": 2,
          "Targets": 6,
          "Team": "MIA"
         },
         {
          "FantasyPoints": 3.7,
          "Player": "Geoff Swaim",
          "ReceivingYards": 17,
          "Receptions": 4,
          "Targets": 4,
          "Team": "JAC"
         },
         {
          "FantasyPoints": 3.4,
          "Player": "Noah Fant",
          "ReceivingYards": 29,
          "Receptions": 2,
          "Targets": 5,
          "Team": "DEN"
         },
         {
          "FantasyPoints": 3.3,
          "Player": "Robert Tonyan",
          "ReceivingYards": 28,
          "Receptions": 1,
          "Targets": 1,
          "Team": "GB"
         },
         {
          "FantasyPoints": 3,
          "Player": "Foster Moreau",
          "ReceivingYards": 20,
          "Receptions": 2,
          "Targets": 2,
          "Team": "OAK"
         },
         {
          "FantasyPoints": 2.6,
          "Player": "Dallas Goedert",
          "ReceivingYards": 16,
          "Receptions": 2,
          "Targets": 3,
          "Team": "PHI"
         },
         {
          "FantasyPoints": 2.6,
          "Player": "Nick Vannett",
          "ReceivingYards": 16,
          "Receptions": 2,
          "Targets": 2,
          "Team": "SEA"
         },
         {
          "FantasyPoints": 2.5,
          "Player": "Jack Doyle",
          "ReceivingYards": 20,
          "Receptions": 1,
          "Targets": 2,
          "Team": "IND"
         },
         {
          "FantasyPoints": 2.5,
          "Player": "Ryan Griffin",
          "ReceivingYards": 10,
          "Receptions": 3,
          "Targets": 4,
          "Team": "NYJ"
         },
         {
          "FantasyPoints": 2.4,
          "Player": "Marcedes Lewis",
          "ReceivingYards": 14,
          "Receptions": 2,
          "Targets": 3,
          "Team": "GB"
         },
         {
          "FantasyPoints": 2.2,
          "Player": "Jordan Akins",
          "ReceivingYards": 17,
          "Receptions": 1,
          "Targets": 2,
          "Team": "HOU"
         },
         {
          "FantasyPoints": 2.2,
          "Player": "Jonnu Smith",
          "ReceivingYards": 7,
          "Receptions": 1,
          "Targets": 1,
          "Team": "TEN"
         },
         {
          "FantasyPoints": 2,
          "Player": "Jesse James",
          "ReceivingYards": 15,
          "Receptions": 1,
          "Targets": 1,
          "Team": "DET"
         },
         {
          "FantasyPoints": 2,
          "Player": "Maxx Williams",
          "ReceivingYards": 15,
          "Receptions": 1,
          "Targets": 1,
          "Team": "ARI"
         },
         {
          "FantasyPoints": 1.8,
          "Player": "Cameron Brate",
          "ReceivingYards": 8,
          "Receptions": 2,
          "Targets": 2,
          "Team": "TB"
         },
         {
          "FantasyPoints": 1.7,
          "Player": "Will Dissly",
          "ReceivingYards": 12,
          "Receptions": 1,
          "Targets": 2,
          "Team": "SEA"
         },
         {
          "FantasyPoints": 1.3,
          "Player": "Eric Ebron",
          "ReceivingYards": 8,
          "Receptions": 1,
          "Targets": 3,
          "Team": "IND"
         },
         {
          "FantasyPoints": 1.3,
          "Player": "Rhett Ellison",
          "ReceivingYards": 8,
          "Receptions": 1,
          "Targets": 2,
          "Team": "NYG"
         },
         {
          "FantasyPoints": 1.3,
          "Player": "Jeremy Sprinkle",
          "ReceivingYards": 8,
          "Receptions": 1,
          "Targets": 1,
          "Team": "WAS"
         },
         {
          "FantasyPoints": 1.2,
          "Player": "Blake Bell",
          "ReceivingYards": 7,
          "Receptions": 1,
          "Targets": 1,
          "Team": "KC"
         },
         {
          "FantasyPoints": 1.2,
          "Player": "Gerald Everett",
          "ReceivingYards": 7,
          "Receptions": 1,
          "Targets": 1,
          "Team": "LAR"
         },
         {
          "FantasyPoints": 1.1,
          "Player": "Adam Shaheen",
          "ReceivingYards": 6,
          "Receptions": 1,
          "Targets": 2,
          "Team": "CHI"
         },
         {
          "FantasyPoints": 1,
          "Player": "Charles Clay",
          "ReceivingYards": 5,
          "Receptions": 1,
          "Targets": 1,
          "Team": "ARI"
         },
         {
          "FantasyPoints": 0.9,
          "Player": "Virgil Green",
          "ReceivingYards": 4,
          "Receptions": 1,
          "Targets": 1,
          "Team": "LAC"
         },
         {
          "FantasyPoints": 0.8,
          "Player": "Mo Alie-Cox",
          "ReceivingYards": 3,
          "Receptions": 1,
          "Targets": 1,
          "Team": "IND"
         },
         {
          "FantasyPoints": 0.8,
          "Player": "Ryan Izzo",
          "ReceivingYards": 3,
          "Receptions": 1,
          "Targets": 2,
          "Team": "NE"
         },
         {
          "FantasyPoints": 0.6,
          "Player": "Dawson Knox",
          "ReceivingYards": 1,
          "Receptions": 1,
          "Targets": 2,
          "Team": "BUF"
         }
        ]
       },
       "encoding": {
        "x": {
         "axis": {
          "labelAngle": -45,
          "title": ""
         },
         "field": "Player",
         "sort": {
          "field": "Targets",
          "op": "sum",
          "order": "descending"
         },
         "type": "nominal"
        },
        "y": {
         "axis": {
          "title": "Targets"
         },
         "field": "Targets",
         "type": "quantitative"
        }
       },
       "mark": "bar",
       "title": "Week 1: Targets for Tight Ends"
      },
      "image/png": "[encoded data removed]",
      "text/plain": [
       "<VegaLite 3 object>\n",
       "\n",
       "If you see this message, it means the renderer has not been properly enabled\n",
       "for the frontend that you are using. For more information, see\n",
       "https://altair-viz.github.io/user_guide/troubleshooting.html\n"
      ]
     },
     "execution_count": 26,
     "metadata": {},
     "output_type": "execute_result"
    }
   ],
   "source": [
    "chart"
   ]
  },
  {
   "cell_type": "code",
   "execution_count": 27,
   "metadata": {},
   "outputs": [],
   "source": [
    "chart.save(PATH + 'plots/TE_targets_plain.png', scale_factor=3.0)"
   ]
  },
  {
   "cell_type": "markdown",
   "metadata": {},
   "source": [
    "## Receptions"
   ]
  },
  {
   "cell_type": "code",
   "execution_count": 28,
   "metadata": {},
   "outputs": [],
   "source": [
    "chart = alt.Chart(data).mark_bar().encode(\n",
    "    alt.Y(\n",
    "        'Receptions:Q',\n",
    "        axis = alt.Axis(title = 'Receptions')\n",
    "    ),\n",
    "    alt.X(\n",
    "        'Player:N',\n",
    "        sort = alt.EncodingSortField(\n",
    "            field = 'Receptions',\n",
    "            op = 'sum',\n",
    "            order = 'descending'\n",
    "          ),\n",
    "        axis = alt.Axis(title = '', labelAngle = -45)\n",
    "    ),\n",
    "    color = alt.Color(\n",
    "        'Team:N',\n",
    "        scale = alt.Scale(\n",
    "            domain = teams,\n",
    "            range = color_codes        \n",
    "        )\n",
    "    )\n",
    ").properties(title = 'Week 1: Receptions for Tight Ends')"
   ]
  },
  {
   "cell_type": "code",
   "execution_count": 29,
   "metadata": {},
   "outputs": [
    {
     "data": {
      "application/vnd.vegalite.v3+json": {
       "$schema": "https://vega.github.io/schema/vega-lite/v3.4.0.json",
       "config": {
        "background": "white",
        "mark": {
         "tooltip": null
        },
        "view": {
         "height": 300,
         "width": 400
        }
       },
       "data": {
        "name": "data-ab3aff318d0f9b16f5519f1e79c6fd4f"
       },
       "datasets": {
        "data-ab3aff318d0f9b16f5519f1e79c6fd4f": [
         {
          "FantasyPoints": 23.1,
          "Player": "Evan Engram",
          "ReceivingYards": 116,
          "Receptions": 11,
          "Targets": 14,
          "Team": "NYG"
         },
         {
          "FantasyPoints": 22.1,
          "Player": "T.J. Hockenson",
          "ReceivingYards": 131,
          "Receptions": 6,
          "Targets": 9,
          "Team": "DET"
         },
         {
          "FantasyPoints": 20.8,
          "Player": "Mark Andrews",
          "ReceivingYards": 108,
          "Receptions": 8,
          "Targets": 8,
          "Team": "BAL"
         },
         {
          "FantasyPoints": 20,
          "Player": "Delanie Walker",
          "ReceivingYards": 55,
          "Receptions": 5,
          "Targets": 6,
          "Team": "TEN"
         },
         {
          "FantasyPoints": 13.9,
          "Player": "Vernon Davis",
          "ReceivingYards": 59,
          "Receptions": 4,
          "Targets": 7,
          "Team": "WAS"
         },
         {
          "FantasyPoints": 12.2,
          "Player": "Austin Hooper",
          "ReceivingYards": 77,
          "Receptions": 9,
          "Targets": 9,
          "Team": "ATL"
         },
         {
          "FantasyPoints": 11.7,
          "Player": "David Njoku",
          "ReceivingYards": 37,
          "Receptions": 4,
          "Targets": 6,
          "Team": "CLE"
         },
         {
          "FantasyPoints": 11.4,
          "Player": "Blake Jarwin",
          "ReceivingYards": 39,
          "Receptions": 3,
          "Targets": 3,
          "Team": "DAL"
         },
         {
          "FantasyPoints": 10.5,
          "Player": "Jimmy Graham",
          "ReceivingYards": 30,
          "Receptions": 3,
          "Targets": 6,
          "Team": "GB"
         },
         {
          "FantasyPoints": 10.5,
          "Player": "Darren Waller",
          "ReceivingYards": 70,
          "Receptions": 7,
          "Targets": 8,
          "Team": "OAK"
         },
         {
          "FantasyPoints": 10.3,
          "Player": "Travis Kelce",
          "ReceivingYards": 88,
          "Receptions": 3,
          "Targets": 8,
          "Team": "KC"
         },
         {
          "FantasyPoints": 10,
          "Player": "Tyler Higbee",
          "ReceivingYards": 20,
          "Receptions": 4,
          "Targets": 5,
          "Team": "LAR"
         },
         {
          "FantasyPoints": 9.4,
          "Player": "George Kittle",
          "ReceivingYards": 54,
          "Receptions": 8,
          "Targets": 10,
          "Team": "SF"
         },
         {
          "FantasyPoints": 9,
          "Player": "Jason Witten",
          "ReceivingYards": 15,
          "Receptions": 3,
          "Targets": 4,
          "Team": "DAL"
         },
         {
          "FantasyPoints": 8.6,
          "Player": "C.J. Uzomah",
          "ReceivingYards": 66,
          "Receptions": 4,
          "Targets": 5,
          "Team": "CIN"
         },
         {
          "FantasyPoints": 8,
          "Player": "Hunter Henry",
          "ReceivingYards": 60,
          "Receptions": 4,
          "Targets": 5,
          "Team": "LAC"
         },
         {
          "FantasyPoints": 7.9,
          "Player": "Zach Ertz",
          "ReceivingYards": 54,
          "Receptions": 5,
          "Targets": 7,
          "Team": "PHI"
         },
         {
          "FantasyPoints": 5.6,
          "Player": "Hayden Hurst",
          "ReceivingYards": 41,
          "Receptions": 3,
          "Targets": 4,
          "Team": "BAL"
         },
         {
          "FantasyPoints": 5.6,
          "Player": "Greg Olsen",
          "ReceivingYards": 36,
          "Receptions": 4,
          "Targets": 9,
          "Team": "CAR"
         },
         {
          "FantasyPoints": 5.2,
          "Player": "Tyler Eifert",
          "ReceivingYards": 27,
          "Receptions": 5,
          "Targets": 6,
          "Team": "CIN"
         },
         {
          "FantasyPoints": 5.2,
          "Player": "O.J. Howard",
          "ReceivingYards": 32,
          "Receptions": 4,
          "Targets": 5,
          "Team": "TB"
         },
         {
          "FantasyPoints": 5.2,
          "Player": "James O'Shaughnessy",
          "ReceivingYards": 32,
          "Receptions": 4,
          "Targets": 5,
          "Team": "JAC"
         },
         {
          "FantasyPoints": 5,
          "Player": "Vance McDonald",
          "ReceivingYards": 40,
          "Receptions": 2,
          "Targets": 4,
          "Team": "PIT"
         },
         {
          "FantasyPoints": 4.7,
          "Player": "Jared Cook",
          "ReceivingYards": 37,
          "Receptions": 2,
          "Targets": 3,
          "Team": "NO"
         },
         {
          "FantasyPoints": 4.5,
          "Player": "Tommy Sweeney",
          "ReceivingYards": 35,
          "Receptions": 2,
          "Targets": 2,
          "Team": "BUF"
         },
         {
          "FantasyPoints": 4.1,
          "Player": "Nick Boyle",
          "ReceivingYards": 26,
          "Receptions": 3,
          "Targets": 3,
          "Team": "BAL"
         },
         {
          "FantasyPoints": 4.1,
          "Player": "Mike Gesicki",
          "ReceivingYards": 31,
          "Receptions": 2,
          "Targets": 6,
          "Team": "MIA"
         },
         {
          "FantasyPoints": 3.7,
          "Player": "Geoff Swaim",
          "ReceivingYards": 17,
          "Receptions": 4,
          "Targets": 4,
          "Team": "JAC"
         },
         {
          "FantasyPoints": 3.4,
          "Player": "Noah Fant",
          "ReceivingYards": 29,
          "Receptions": 2,
          "Targets": 5,
          "Team": "DEN"
         },
         {
          "FantasyPoints": 3.3,
          "Player": "Robert Tonyan",
          "ReceivingYards": 28,
          "Receptions": 1,
          "Targets": 1,
          "Team": "GB"
         },
         {
          "FantasyPoints": 3,
          "Player": "Foster Moreau",
          "ReceivingYards": 20,
          "Receptions": 2,
          "Targets": 2,
          "Team": "OAK"
         },
         {
          "FantasyPoints": 2.6,
          "Player": "Dallas Goedert",
          "ReceivingYards": 16,
          "Receptions": 2,
          "Targets": 3,
          "Team": "PHI"
         },
         {
          "FantasyPoints": 2.6,
          "Player": "Nick Vannett",
          "ReceivingYards": 16,
          "Receptions": 2,
          "Targets": 2,
          "Team": "SEA"
         },
         {
          "FantasyPoints": 2.5,
          "Player": "Jack Doyle",
          "ReceivingYards": 20,
          "Receptions": 1,
          "Targets": 2,
          "Team": "IND"
         },
         {
          "FantasyPoints": 2.5,
          "Player": "Ryan Griffin",
          "ReceivingYards": 10,
          "Receptions": 3,
          "Targets": 4,
          "Team": "NYJ"
         },
         {
          "FantasyPoints": 2.4,
          "Player": "Marcedes Lewis",
          "ReceivingYards": 14,
          "Receptions": 2,
          "Targets": 3,
          "Team": "GB"
         },
         {
          "FantasyPoints": 2.2,
          "Player": "Jordan Akins",
          "ReceivingYards": 17,
          "Receptions": 1,
          "Targets": 2,
          "Team": "HOU"
         },
         {
          "FantasyPoints": 2.2,
          "Player": "Jonnu Smith",
          "ReceivingYards": 7,
          "Receptions": 1,
          "Targets": 1,
          "Team": "TEN"
         },
         {
          "FantasyPoints": 2,
          "Player": "Jesse James",
          "ReceivingYards": 15,
          "Receptions": 1,
          "Targets": 1,
          "Team": "DET"
         },
         {
          "FantasyPoints": 2,
          "Player": "Maxx Williams",
          "ReceivingYards": 15,
          "Receptions": 1,
          "Targets": 1,
          "Team": "ARI"
         },
         {
          "FantasyPoints": 1.8,
          "Player": "Cameron Brate",
          "ReceivingYards": 8,
          "Receptions": 2,
          "Targets": 2,
          "Team": "TB"
         },
         {
          "FantasyPoints": 1.7,
          "Player": "Will Dissly",
          "ReceivingYards": 12,
          "Receptions": 1,
          "Targets": 2,
          "Team": "SEA"
         },
         {
          "FantasyPoints": 1.3,
          "Player": "Eric Ebron",
          "ReceivingYards": 8,
          "Receptions": 1,
          "Targets": 3,
          "Team": "IND"
         },
         {
          "FantasyPoints": 1.3,
          "Player": "Rhett Ellison",
          "ReceivingYards": 8,
          "Receptions": 1,
          "Targets": 2,
          "Team": "NYG"
         },
         {
          "FantasyPoints": 1.3,
          "Player": "Jeremy Sprinkle",
          "ReceivingYards": 8,
          "Receptions": 1,
          "Targets": 1,
          "Team": "WAS"
         },
         {
          "FantasyPoints": 1.2,
          "Player": "Blake Bell",
          "ReceivingYards": 7,
          "Receptions": 1,
          "Targets": 1,
          "Team": "KC"
         },
         {
          "FantasyPoints": 1.2,
          "Player": "Gerald Everett",
          "ReceivingYards": 7,
          "Receptions": 1,
          "Targets": 1,
          "Team": "LAR"
         },
         {
          "FantasyPoints": 1.1,
          "Player": "Adam Shaheen",
          "ReceivingYards": 6,
          "Receptions": 1,
          "Targets": 2,
          "Team": "CHI"
         },
         {
          "FantasyPoints": 1,
          "Player": "Charles Clay",
          "ReceivingYards": 5,
          "Receptions": 1,
          "Targets": 1,
          "Team": "ARI"
         },
         {
          "FantasyPoints": 0.9,
          "Player": "Virgil Green",
          "ReceivingYards": 4,
          "Receptions": 1,
          "Targets": 1,
          "Team": "LAC"
         },
         {
          "FantasyPoints": 0.8,
          "Player": "Mo Alie-Cox",
          "ReceivingYards": 3,
          "Receptions": 1,
          "Targets": 1,
          "Team": "IND"
         },
         {
          "FantasyPoints": 0.8,
          "Player": "Ryan Izzo",
          "ReceivingYards": 3,
          "Receptions": 1,
          "Targets": 2,
          "Team": "NE"
         },
         {
          "FantasyPoints": 0.6,
          "Player": "Dawson Knox",
          "ReceivingYards": 1,
          "Receptions": 1,
          "Targets": 2,
          "Team": "BUF"
         }
        ]
       },
       "encoding": {
        "color": {
         "field": "Team",
         "scale": {
          "domain": [
           "ARI",
           "ATL",
           "BAL",
           "BUF",
           "CAR",
           "CHI",
           "CIN",
           "CLE",
           "DAL",
           "DEN",
           "DET",
           "GB",
           "HOU",
           "IND",
           "JAC",
           "KC",
           "LAC",
           "LAR",
           "MIA",
           "NE",
           "NO",
           "NYG",
           "NYJ",
           "OAK",
           "PHI",
           "PIT",
           "SEA",
           "SF",
           "TB",
           "TEN",
           "WAS"
          ],
          "range": [
           "#97233F",
           "#A71930",
           "#241773",
           "#00338D",
           "#0085CA",
           "#C83803",
           "#FB4F14",
           "#311D00",
           "#869397",
           "#FB4F14",
           "#0076B6",
           "#203731",
           "#03202F",
           "#002C5F",
           "#006778",
           "#E31837",
           "#FFC20E",
           "#866D4B",
           "#FC4C02",
           "#002244",
           "#D3BC8D",
           "#0B2265",
           "#125740",
           "#000000",
           "#004C54",
           "#FFB612",
           "#69BE28",
           "#AA0000",
           "#D50A0A",
           "#418FDE",
           "#773141"
          ]
         },
         "type": "nominal"
        },
        "x": {
         "axis": {
          "labelAngle": -45,
          "title": ""
         },
         "field": "Player",
         "sort": {
          "field": "Receptions",
          "op": "sum",
          "order": "descending"
         },
         "type": "nominal"
        },
        "y": {
         "axis": {
          "title": "Receptions"
         },
         "field": "Receptions",
         "type": "quantitative"
        }
       },
       "mark": "bar",
       "title": "Week 1: Receptions for Tight Ends"
      },
      "image/png": "[encoded data removed]",
      "text/plain": [
       "<VegaLite 3 object>\n",
       "\n",
       "If you see this message, it means the renderer has not been properly enabled\n",
       "for the frontend that you are using. For more information, see\n",
       "https://altair-viz.github.io/user_guide/troubleshooting.html\n"
      ]
     },
     "execution_count": 29,
     "metadata": {},
     "output_type": "execute_result"
    }
   ],
   "source": [
    "chart"
   ]
  },
  {
   "cell_type": "code",
   "execution_count": 30,
   "metadata": {},
   "outputs": [],
   "source": [
    "chart.save(PATH + 'plots/TE_receptions_color.png', scale_factor=3.0)"
   ]
  },
  {
   "cell_type": "code",
   "execution_count": 31,
   "metadata": {},
   "outputs": [],
   "source": [
    "chart = alt.Chart(data).mark_bar().encode(\n",
    "    alt.Y(\n",
    "        'Receptions:Q',\n",
    "        axis = alt.Axis(title = 'Receptions')\n",
    "    ),\n",
    "    alt.X(\n",
    "        'Player:N',\n",
    "        sort = alt.EncodingSortField(\n",
    "            field = 'Receptions',\n",
    "            op = 'sum',\n",
    "            order = 'descending'\n",
    "          ),\n",
    "        axis = alt.Axis(title = '', labelAngle = -45)\n",
    "    )\n",
    ").properties(title = 'Week 1: Receptions for Tight Ends')"
   ]
  },
  {
   "cell_type": "code",
   "execution_count": 32,
   "metadata": {},
   "outputs": [
    {
     "data": {
      "application/vnd.vegalite.v3+json": {
       "$schema": "https://vega.github.io/schema/vega-lite/v3.4.0.json",
       "config": {
        "background": "white",
        "mark": {
         "tooltip": null
        },
        "view": {
         "height": 300,
         "width": 400
        }
       },
       "data": {
        "name": "data-ab3aff318d0f9b16f5519f1e79c6fd4f"
       },
       "datasets": {
        "data-ab3aff318d0f9b16f5519f1e79c6fd4f": [
         {
          "FantasyPoints": 23.1,
          "Player": "Evan Engram",
          "ReceivingYards": 116,
          "Receptions": 11,
          "Targets": 14,
          "Team": "NYG"
         },
         {
          "FantasyPoints": 22.1,
          "Player": "T.J. Hockenson",
          "ReceivingYards": 131,
          "Receptions": 6,
          "Targets": 9,
          "Team": "DET"
         },
         {
          "FantasyPoints": 20.8,
          "Player": "Mark Andrews",
          "ReceivingYards": 108,
          "Receptions": 8,
          "Targets": 8,
          "Team": "BAL"
         },
         {
          "FantasyPoints": 20,
          "Player": "Delanie Walker",
          "ReceivingYards": 55,
          "Receptions": 5,
          "Targets": 6,
          "Team": "TEN"
         },
         {
          "FantasyPoints": 13.9,
          "Player": "Vernon Davis",
          "ReceivingYards": 59,
          "Receptions": 4,
          "Targets": 7,
          "Team": "WAS"
         },
         {
          "FantasyPoints": 12.2,
          "Player": "Austin Hooper",
          "ReceivingYards": 77,
          "Receptions": 9,
          "Targets": 9,
          "Team": "ATL"
         },
         {
          "FantasyPoints": 11.7,
          "Player": "David Njoku",
          "ReceivingYards": 37,
          "Receptions": 4,
          "Targets": 6,
          "Team": "CLE"
         },
         {
          "FantasyPoints": 11.4,
          "Player": "Blake Jarwin",
          "ReceivingYards": 39,
          "Receptions": 3,
          "Targets": 3,
          "Team": "DAL"
         },
         {
          "FantasyPoints": 10.5,
          "Player": "Jimmy Graham",
          "ReceivingYards": 30,
          "Receptions": 3,
          "Targets": 6,
          "Team": "GB"
         },
         {
          "FantasyPoints": 10.5,
          "Player": "Darren Waller",
          "ReceivingYards": 70,
          "Receptions": 7,
          "Targets": 8,
          "Team": "OAK"
         },
         {
          "FantasyPoints": 10.3,
          "Player": "Travis Kelce",
          "ReceivingYards": 88,
          "Receptions": 3,
          "Targets": 8,
          "Team": "KC"
         },
         {
          "FantasyPoints": 10,
          "Player": "Tyler Higbee",
          "ReceivingYards": 20,
          "Receptions": 4,
          "Targets": 5,
          "Team": "LAR"
         },
         {
          "FantasyPoints": 9.4,
          "Player": "George Kittle",
          "ReceivingYards": 54,
          "Receptions": 8,
          "Targets": 10,
          "Team": "SF"
         },
         {
          "FantasyPoints": 9,
          "Player": "Jason Witten",
          "ReceivingYards": 15,
          "Receptions": 3,
          "Targets": 4,
          "Team": "DAL"
         },
         {
          "FantasyPoints": 8.6,
          "Player": "C.J. Uzomah",
          "ReceivingYards": 66,
          "Receptions": 4,
          "Targets": 5,
          "Team": "CIN"
         },
         {
          "FantasyPoints": 8,
          "Player": "Hunter Henry",
          "ReceivingYards": 60,
          "Receptions": 4,
          "Targets": 5,
          "Team": "LAC"
         },
         {
          "FantasyPoints": 7.9,
          "Player": "Zach Ertz",
          "ReceivingYards": 54,
          "Receptions": 5,
          "Targets": 7,
          "Team": "PHI"
         },
         {
          "FantasyPoints": 5.6,
          "Player": "Hayden Hurst",
          "ReceivingYards": 41,
          "Receptions": 3,
          "Targets": 4,
          "Team": "BAL"
         },
         {
          "FantasyPoints": 5.6,
          "Player": "Greg Olsen",
          "ReceivingYards": 36,
          "Receptions": 4,
          "Targets": 9,
          "Team": "CAR"
         },
         {
          "FantasyPoints": 5.2,
          "Player": "Tyler Eifert",
          "ReceivingYards": 27,
          "Receptions": 5,
          "Targets": 6,
          "Team": "CIN"
         },
         {
          "FantasyPoints": 5.2,
          "Player": "O.J. Howard",
          "ReceivingYards": 32,
          "Receptions": 4,
          "Targets": 5,
          "Team": "TB"
         },
         {
          "FantasyPoints": 5.2,
          "Player": "James O'Shaughnessy",
          "ReceivingYards": 32,
          "Receptions": 4,
          "Targets": 5,
          "Team": "JAC"
         },
         {
          "FantasyPoints": 5,
          "Player": "Vance McDonald",
          "ReceivingYards": 40,
          "Receptions": 2,
          "Targets": 4,
          "Team": "PIT"
         },
         {
          "FantasyPoints": 4.7,
          "Player": "Jared Cook",
          "ReceivingYards": 37,
          "Receptions": 2,
          "Targets": 3,
          "Team": "NO"
         },
         {
          "FantasyPoints": 4.5,
          "Player": "Tommy Sweeney",
          "ReceivingYards": 35,
          "Receptions": 2,
          "Targets": 2,
          "Team": "BUF"
         },
         {
          "FantasyPoints": 4.1,
          "Player": "Nick Boyle",
          "ReceivingYards": 26,
          "Receptions": 3,
          "Targets": 3,
          "Team": "BAL"
         },
         {
          "FantasyPoints": 4.1,
          "Player": "Mike Gesicki",
          "ReceivingYards": 31,
          "Receptions": 2,
          "Targets": 6,
          "Team": "MIA"
         },
         {
          "FantasyPoints": 3.7,
          "Player": "Geoff Swaim",
          "ReceivingYards": 17,
          "Receptions": 4,
          "Targets": 4,
          "Team": "JAC"
         },
         {
          "FantasyPoints": 3.4,
          "Player": "Noah Fant",
          "ReceivingYards": 29,
          "Receptions": 2,
          "Targets": 5,
          "Team": "DEN"
         },
         {
          "FantasyPoints": 3.3,
          "Player": "Robert Tonyan",
          "ReceivingYards": 28,
          "Receptions": 1,
          "Targets": 1,
          "Team": "GB"
         },
         {
          "FantasyPoints": 3,
          "Player": "Foster Moreau",
          "ReceivingYards": 20,
          "Receptions": 2,
          "Targets": 2,
          "Team": "OAK"
         },
         {
          "FantasyPoints": 2.6,
          "Player": "Dallas Goedert",
          "ReceivingYards": 16,
          "Receptions": 2,
          "Targets": 3,
          "Team": "PHI"
         },
         {
          "FantasyPoints": 2.6,
          "Player": "Nick Vannett",
          "ReceivingYards": 16,
          "Receptions": 2,
          "Targets": 2,
          "Team": "SEA"
         },
         {
          "FantasyPoints": 2.5,
          "Player": "Jack Doyle",
          "ReceivingYards": 20,
          "Receptions": 1,
          "Targets": 2,
          "Team": "IND"
         },
         {
          "FantasyPoints": 2.5,
          "Player": "Ryan Griffin",
          "ReceivingYards": 10,
          "Receptions": 3,
          "Targets": 4,
          "Team": "NYJ"
         },
         {
          "FantasyPoints": 2.4,
          "Player": "Marcedes Lewis",
          "ReceivingYards": 14,
          "Receptions": 2,
          "Targets": 3,
          "Team": "GB"
         },
         {
          "FantasyPoints": 2.2,
          "Player": "Jordan Akins",
          "ReceivingYards": 17,
          "Receptions": 1,
          "Targets": 2,
          "Team": "HOU"
         },
         {
          "FantasyPoints": 2.2,
          "Player": "Jonnu Smith",
          "ReceivingYards": 7,
          "Receptions": 1,
          "Targets": 1,
          "Team": "TEN"
         },
         {
          "FantasyPoints": 2,
          "Player": "Jesse James",
          "ReceivingYards": 15,
          "Receptions": 1,
          "Targets": 1,
          "Team": "DET"
         },
         {
          "FantasyPoints": 2,
          "Player": "Maxx Williams",
          "ReceivingYards": 15,
          "Receptions": 1,
          "Targets": 1,
          "Team": "ARI"
         },
         {
          "FantasyPoints": 1.8,
          "Player": "Cameron Brate",
          "ReceivingYards": 8,
          "Receptions": 2,
          "Targets": 2,
          "Team": "TB"
         },
         {
          "FantasyPoints": 1.7,
          "Player": "Will Dissly",
          "ReceivingYards": 12,
          "Receptions": 1,
          "Targets": 2,
          "Team": "SEA"
         },
         {
          "FantasyPoints": 1.3,
          "Player": "Eric Ebron",
          "ReceivingYards": 8,
          "Receptions": 1,
          "Targets": 3,
          "Team": "IND"
         },
         {
          "FantasyPoints": 1.3,
          "Player": "Rhett Ellison",
          "ReceivingYards": 8,
          "Receptions": 1,
          "Targets": 2,
          "Team": "NYG"
         },
         {
          "FantasyPoints": 1.3,
          "Player": "Jeremy Sprinkle",
          "ReceivingYards": 8,
          "Receptions": 1,
          "Targets": 1,
          "Team": "WAS"
         },
         {
          "FantasyPoints": 1.2,
          "Player": "Blake Bell",
          "ReceivingYards": 7,
          "Receptions": 1,
          "Targets": 1,
          "Team": "KC"
         },
         {
          "FantasyPoints": 1.2,
          "Player": "Gerald Everett",
          "ReceivingYards": 7,
          "Receptions": 1,
          "Targets": 1,
          "Team": "LAR"
         },
         {
          "FantasyPoints": 1.1,
          "Player": "Adam Shaheen",
          "ReceivingYards": 6,
          "Receptions": 1,
          "Targets": 2,
          "Team": "CHI"
         },
         {
          "FantasyPoints": 1,
          "Player": "Charles Clay",
          "ReceivingYards": 5,
          "Receptions": 1,
          "Targets": 1,
          "Team": "ARI"
         },
         {
          "FantasyPoints": 0.9,
          "Player": "Virgil Green",
          "ReceivingYards": 4,
          "Receptions": 1,
          "Targets": 1,
          "Team": "LAC"
         },
         {
          "FantasyPoints": 0.8,
          "Player": "Mo Alie-Cox",
          "ReceivingYards": 3,
          "Receptions": 1,
          "Targets": 1,
          "Team": "IND"
         },
         {
          "FantasyPoints": 0.8,
          "Player": "Ryan Izzo",
          "ReceivingYards": 3,
          "Receptions": 1,
          "Targets": 2,
          "Team": "NE"
         },
         {
          "FantasyPoints": 0.6,
          "Player": "Dawson Knox",
          "ReceivingYards": 1,
          "Receptions": 1,
          "Targets": 2,
          "Team": "BUF"
         }
        ]
       },
       "encoding": {
        "x": {
         "axis": {
          "labelAngle": -45,
          "title": ""
         },
         "field": "Player",
         "sort": {
          "field": "Receptions",
          "op": "sum",
          "order": "descending"
         },
         "type": "nominal"
        },
        "y": {
         "axis": {
          "title": "Receptions"
         },
         "field": "Receptions",
         "type": "quantitative"
        }
       },
       "mark": "bar",
       "title": "Week 1: Receptions for Tight Ends"
      },
      "image/png": "[encoded data removed]",
      "text/plain": [
       "<VegaLite 3 object>\n",
       "\n",
       "If you see this message, it means the renderer has not been properly enabled\n",
       "for the frontend that you are using. For more information, see\n",
       "https://altair-viz.github.io/user_guide/troubleshooting.html\n"
      ]
     },
     "execution_count": 32,
     "metadata": {},
     "output_type": "execute_result"
    }
   ],
   "source": [
    "chart"
   ]
  },
  {
   "cell_type": "code",
   "execution_count": 33,
   "metadata": {},
   "outputs": [],
   "source": [
    "chart.save(PATH + 'plots/TE_receptions_plain.png', scale_factor=3.0)"
   ]
  },
  {
   "cell_type": "markdown",
   "metadata": {},
   "source": [
    "## Yards Per Catch"
   ]
  },
  {
   "cell_type": "code",
   "execution_count": 34,
   "metadata": {},
   "outputs": [],
   "source": [
    "data['YPC'] = data['ReceivingYards'] / data['Receptions']"
   ]
  },
  {
   "cell_type": "code",
   "execution_count": 35,
   "metadata": {},
   "outputs": [],
   "source": [
    "chart = alt.Chart(data).mark_bar().encode(\n",
    "    alt.Y(\n",
    "        'YPC:Q',\n",
    "        axis = alt.Axis(title = 'Yards Per Catch')\n",
    "    ),\n",
    "    alt.X(\n",
    "        'Player:N',\n",
    "        sort = alt.EncodingSortField(\n",
    "            field = 'YPC',\n",
    "            op = 'sum',\n",
    "            order = 'descending'\n",
    "          ),\n",
    "        axis = alt.Axis(title = '', labelAngle = -45)\n",
    "    ),\n",
    "    color = alt.Color(\n",
    "        'Team:N',\n",
    "        scale = alt.Scale(\n",
    "            domain = teams,\n",
    "            range = color_codes        \n",
    "        )\n",
    "    )\n",
    ").properties(title = 'Week 1: Yards Per Catch for Tight Ends')"
   ]
  },
  {
   "cell_type": "code",
   "execution_count": 36,
   "metadata": {},
   "outputs": [
    {
     "data": {
      "application/vnd.vegalite.v3+json": {
       "$schema": "https://vega.github.io/schema/vega-lite/v3.4.0.json",
       "config": {
        "background": "white",
        "mark": {
         "tooltip": null
        },
        "view": {
         "height": 300,
         "width": 400
        }
       },
       "data": {
        "name": "data-768a41c4bdd92ec3d79100caed7b7d46"
       },
       "datasets": {
        "data-768a41c4bdd92ec3d79100caed7b7d46": [
         {
          "FantasyPoints": 23.1,
          "Player": "Evan Engram",
          "ReceivingYards": 116,
          "Receptions": 11,
          "Targets": 14,
          "Team": "NYG",
          "YPC": 10.545454545454545
         },
         {
          "FantasyPoints": 22.1,
          "Player": "T.J. Hockenson",
          "ReceivingYards": 131,
          "Receptions": 6,
          "Targets": 9,
          "Team": "DET",
          "YPC": 21.833333333333332
         },
         {
          "FantasyPoints": 20.8,
          "Player": "Mark Andrews",
          "ReceivingYards": 108,
          "Receptions": 8,
          "Targets": 8,
          "Team": "BAL",
          "YPC": 13.5
         },
         {
          "FantasyPoints": 20,
          "Player": "Delanie Walker",
          "ReceivingYards": 55,
          "Receptions": 5,
          "Targets": 6,
          "Team": "TEN",
          "YPC": 11
         },
         {
          "FantasyPoints": 13.9,
          "Player": "Vernon Davis",
          "ReceivingYards": 59,
          "Receptions": 4,
          "Targets": 7,
          "Team": "WAS",
          "YPC": 14.75
         },
         {
          "FantasyPoints": 12.2,
          "Player": "Austin Hooper",
          "ReceivingYards": 77,
          "Receptions": 9,
          "Targets": 9,
          "Team": "ATL",
          "YPC": 8.555555555555555
         },
         {
          "FantasyPoints": 11.7,
          "Player": "David Njoku",
          "ReceivingYards": 37,
          "Receptions": 4,
          "Targets": 6,
          "Team": "CLE",
          "YPC": 9.25
         },
         {
          "FantasyPoints": 11.4,
          "Player": "Blake Jarwin",
          "ReceivingYards": 39,
          "Receptions": 3,
          "Targets": 3,
          "Team": "DAL",
          "YPC": 13
         },
         {
          "FantasyPoints": 10.5,
          "Player": "Jimmy Graham",
          "ReceivingYards": 30,
          "Receptions": 3,
          "Targets": 6,
          "Team": "GB",
          "YPC": 10
         },
         {
          "FantasyPoints": 10.5,
          "Player": "Darren Waller",
          "ReceivingYards": 70,
          "Receptions": 7,
          "Targets": 8,
          "Team": "OAK",
          "YPC": 10
         },
         {
          "FantasyPoints": 10.3,
          "Player": "Travis Kelce",
          "ReceivingYards": 88,
          "Receptions": 3,
          "Targets": 8,
          "Team": "KC",
          "YPC": 29.333333333333332
         },
         {
          "FantasyPoints": 10,
          "Player": "Tyler Higbee",
          "ReceivingYards": 20,
          "Receptions": 4,
          "Targets": 5,
          "Team": "LAR",
          "YPC": 5
         },
         {
          "FantasyPoints": 9.4,
          "Player": "George Kittle",
          "ReceivingYards": 54,
          "Receptions": 8,
          "Targets": 10,
          "Team": "SF",
          "YPC": 6.75
         },
         {
          "FantasyPoints": 9,
          "Player": "Jason Witten",
          "ReceivingYards": 15,
          "Receptions": 3,
          "Targets": 4,
          "Team": "DAL",
          "YPC": 5
         },
         {
          "FantasyPoints": 8.6,
          "Player": "C.J. Uzomah",
          "ReceivingYards": 66,
          "Receptions": 4,
          "Targets": 5,
          "Team": "CIN",
          "YPC": 16.5
         },
         {
          "FantasyPoints": 8,
          "Player": "Hunter Henry",
          "ReceivingYards": 60,
          "Receptions": 4,
          "Targets": 5,
          "Team": "LAC",
          "YPC": 15
         },
         {
          "FantasyPoints": 7.9,
          "Player": "Zach Ertz",
          "ReceivingYards": 54,
          "Receptions": 5,
          "Targets": 7,
          "Team": "PHI",
          "YPC": 10.8
         },
         {
          "FantasyPoints": 5.6,
          "Player": "Hayden Hurst",
          "ReceivingYards": 41,
          "Receptions": 3,
          "Targets": 4,
          "Team": "BAL",
          "YPC": 13.666666666666666
         },
         {
          "FantasyPoints": 5.6,
          "Player": "Greg Olsen",
          "ReceivingYards": 36,
          "Receptions": 4,
          "Targets": 9,
          "Team": "CAR",
          "YPC": 9
         },
         {
          "FantasyPoints": 5.2,
          "Player": "Tyler Eifert",
          "ReceivingYards": 27,
          "Receptions": 5,
          "Targets": 6,
          "Team": "CIN",
          "YPC": 5.4
         },
         {
          "FantasyPoints": 5.2,
          "Player": "O.J. Howard",
          "ReceivingYards": 32,
          "Receptions": 4,
          "Targets": 5,
          "Team": "TB",
          "YPC": 8
         },
         {
          "FantasyPoints": 5.2,
          "Player": "James O'Shaughnessy",
          "ReceivingYards": 32,
          "Receptions": 4,
          "Targets": 5,
          "Team": "JAC",
          "YPC": 8
         },
         {
          "FantasyPoints": 5,
          "Player": "Vance McDonald",
          "ReceivingYards": 40,
          "Receptions": 2,
          "Targets": 4,
          "Team": "PIT",
          "YPC": 20
         },
         {
          "FantasyPoints": 4.7,
          "Player": "Jared Cook",
          "ReceivingYards": 37,
          "Receptions": 2,
          "Targets": 3,
          "Team": "NO",
          "YPC": 18.5
         },
         {
          "FantasyPoints": 4.5,
          "Player": "Tommy Sweeney",
          "ReceivingYards": 35,
          "Receptions": 2,
          "Targets": 2,
          "Team": "BUF",
          "YPC": 17.5
         },
         {
          "FantasyPoints": 4.1,
          "Player": "Nick Boyle",
          "ReceivingYards": 26,
          "Receptions": 3,
          "Targets": 3,
          "Team": "BAL",
          "YPC": 8.666666666666666
         },
         {
          "FantasyPoints": 4.1,
          "Player": "Mike Gesicki",
          "ReceivingYards": 31,
          "Receptions": 2,
          "Targets": 6,
          "Team": "MIA",
          "YPC": 15.5
         },
         {
          "FantasyPoints": 3.7,
          "Player": "Geoff Swaim",
          "ReceivingYards": 17,
          "Receptions": 4,
          "Targets": 4,
          "Team": "JAC",
          "YPC": 4.25
         },
         {
          "FantasyPoints": 3.4,
          "Player": "Noah Fant",
          "ReceivingYards": 29,
          "Receptions": 2,
          "Targets": 5,
          "Team": "DEN",
          "YPC": 14.5
         },
         {
          "FantasyPoints": 3.3,
          "Player": "Robert Tonyan",
          "ReceivingYards": 28,
          "Receptions": 1,
          "Targets": 1,
          "Team": "GB",
          "YPC": 28
         },
         {
          "FantasyPoints": 3,
          "Player": "Foster Moreau",
          "ReceivingYards": 20,
          "Receptions": 2,
          "Targets": 2,
          "Team": "OAK",
          "YPC": 10
         },
         {
          "FantasyPoints": 2.6,
          "Player": "Dallas Goedert",
          "ReceivingYards": 16,
          "Receptions": 2,
          "Targets": 3,
          "Team": "PHI",
          "YPC": 8
         },
         {
          "FantasyPoints": 2.6,
          "Player": "Nick Vannett",
          "ReceivingYards": 16,
          "Receptions": 2,
          "Targets": 2,
          "Team": "SEA",
          "YPC": 8
         },
         {
          "FantasyPoints": 2.5,
          "Player": "Jack Doyle",
          "ReceivingYards": 20,
          "Receptions": 1,
          "Targets": 2,
          "Team": "IND",
          "YPC": 20
         },
         {
          "FantasyPoints": 2.5,
          "Player": "Ryan Griffin",
          "ReceivingYards": 10,
          "Receptions": 3,
          "Targets": 4,
          "Team": "NYJ",
          "YPC": 3.3333333333333335
         },
         {
          "FantasyPoints": 2.4,
          "Player": "Marcedes Lewis",
          "ReceivingYards": 14,
          "Receptions": 2,
          "Targets": 3,
          "Team": "GB",
          "YPC": 7
         },
         {
          "FantasyPoints": 2.2,
          "Player": "Jordan Akins",
          "ReceivingYards": 17,
          "Receptions": 1,
          "Targets": 2,
          "Team": "HOU",
          "YPC": 17
         },
         {
          "FantasyPoints": 2.2,
          "Player": "Jonnu Smith",
          "ReceivingYards": 7,
          "Receptions": 1,
          "Targets": 1,
          "Team": "TEN",
          "YPC": 7
         },
         {
          "FantasyPoints": 2,
          "Player": "Jesse James",
          "ReceivingYards": 15,
          "Receptions": 1,
          "Targets": 1,
          "Team": "DET",
          "YPC": 15
         },
         {
          "FantasyPoints": 2,
          "Player": "Maxx Williams",
          "ReceivingYards": 15,
          "Receptions": 1,
          "Targets": 1,
          "Team": "ARI",
          "YPC": 15
         },
         {
          "FantasyPoints": 1.8,
          "Player": "Cameron Brate",
          "ReceivingYards": 8,
          "Receptions": 2,
          "Targets": 2,
          "Team": "TB",
          "YPC": 4
         },
         {
          "FantasyPoints": 1.7,
          "Player": "Will Dissly",
          "ReceivingYards": 12,
          "Receptions": 1,
          "Targets": 2,
          "Team": "SEA",
          "YPC": 12
         },
         {
          "FantasyPoints": 1.3,
          "Player": "Eric Ebron",
          "ReceivingYards": 8,
          "Receptions": 1,
          "Targets": 3,
          "Team": "IND",
          "YPC": 8
         },
         {
          "FantasyPoints": 1.3,
          "Player": "Rhett Ellison",
          "ReceivingYards": 8,
          "Receptions": 1,
          "Targets": 2,
          "Team": "NYG",
          "YPC": 8
         },
         {
          "FantasyPoints": 1.3,
          "Player": "Jeremy Sprinkle",
          "ReceivingYards": 8,
          "Receptions": 1,
          "Targets": 1,
          "Team": "WAS",
          "YPC": 8
         },
         {
          "FantasyPoints": 1.2,
          "Player": "Blake Bell",
          "ReceivingYards": 7,
          "Receptions": 1,
          "Targets": 1,
          "Team": "KC",
          "YPC": 7
         },
         {
          "FantasyPoints": 1.2,
          "Player": "Gerald Everett",
          "ReceivingYards": 7,
          "Receptions": 1,
          "Targets": 1,
          "Team": "LAR",
          "YPC": 7
         },
         {
          "FantasyPoints": 1.1,
          "Player": "Adam Shaheen",
          "ReceivingYards": 6,
          "Receptions": 1,
          "Targets": 2,
          "Team": "CHI",
          "YPC": 6
         },
         {
          "FantasyPoints": 1,
          "Player": "Charles Clay",
          "ReceivingYards": 5,
          "Receptions": 1,
          "Targets": 1,
          "Team": "ARI",
          "YPC": 5
         },
         {
          "FantasyPoints": 0.9,
          "Player": "Virgil Green",
          "ReceivingYards": 4,
          "Receptions": 1,
          "Targets": 1,
          "Team": "LAC",
          "YPC": 4
         },
         {
          "FantasyPoints": 0.8,
          "Player": "Mo Alie-Cox",
          "ReceivingYards": 3,
          "Receptions": 1,
          "Targets": 1,
          "Team": "IND",
          "YPC": 3
         },
         {
          "FantasyPoints": 0.8,
          "Player": "Ryan Izzo",
          "ReceivingYards": 3,
          "Receptions": 1,
          "Targets": 2,
          "Team": "NE",
          "YPC": 3
         },
         {
          "FantasyPoints": 0.6,
          "Player": "Dawson Knox",
          "ReceivingYards": 1,
          "Receptions": 1,
          "Targets": 2,
          "Team": "BUF",
          "YPC": 1
         }
        ]
       },
       "encoding": {
        "color": {
         "field": "Team",
         "scale": {
          "domain": [
           "ARI",
           "ATL",
           "BAL",
           "BUF",
           "CAR",
           "CHI",
           "CIN",
           "CLE",
           "DAL",
           "DEN",
           "DET",
           "GB",
           "HOU",
           "IND",
           "JAC",
           "KC",
           "LAC",
           "LAR",
           "MIA",
           "NE",
           "NO",
           "NYG",
           "NYJ",
           "OAK",
           "PHI",
           "PIT",
           "SEA",
           "SF",
           "TB",
           "TEN",
           "WAS"
          ],
          "range": [
           "#97233F",
           "#A71930",
           "#241773",
           "#00338D",
           "#0085CA",
           "#C83803",
           "#FB4F14",
           "#311D00",
           "#869397",
           "#FB4F14",
           "#0076B6",
           "#203731",
           "#03202F",
           "#002C5F",
           "#006778",
           "#E31837",
           "#FFC20E",
           "#866D4B",
           "#FC4C02",
           "#002244",
           "#D3BC8D",
           "#0B2265",
           "#125740",
           "#000000",
           "#004C54",
           "#FFB612",
           "#69BE28",
           "#AA0000",
           "#D50A0A",
           "#418FDE",
           "#773141"
          ]
         },
         "type": "nominal"
        },
        "x": {
         "axis": {
          "labelAngle": -45,
          "title": ""
         },
         "field": "Player",
         "sort": {
          "field": "YPC",
          "op": "sum",
          "order": "descending"
         },
         "type": "nominal"
        },
        "y": {
         "axis": {
          "title": "Yards Per Catch"
         },
         "field": "YPC",
         "type": "quantitative"
        }
       },
       "mark": "bar",
       "title": "Week 1: Yards Per Catch for Tight Ends"
      },
      "image/png": "[encoded data removed]",
      "text/plain": [
       "<VegaLite 3 object>\n",
       "\n",
       "If you see this message, it means the renderer has not been properly enabled\n",
       "for the frontend that you are using. For more information, see\n",
       "https://altair-viz.github.io/user_guide/troubleshooting.html\n"
      ]
     },
     "execution_count": 36,
     "metadata": {},
     "output_type": "execute_result"
    }
   ],
   "source": [
    "chart"
   ]
  },
  {
   "cell_type": "code",
   "execution_count": 37,
   "metadata": {},
   "outputs": [],
   "source": [
    "chart.save(PATH + 'plots/TE_YPC_color.png', scale_factor=3.0)"
   ]
  },
  {
   "cell_type": "code",
   "execution_count": 38,
   "metadata": {},
   "outputs": [],
   "source": [
    "chart = alt.Chart(data).mark_bar().encode(\n",
    "    alt.Y(\n",
    "        'YPC:Q',\n",
    "        axis = alt.Axis(title = 'Yards Per Catch')\n",
    "    ),\n",
    "    alt.X(\n",
    "        'Player:N',\n",
    "        sort = alt.EncodingSortField(\n",
    "            field = 'YPC',\n",
    "            op = 'sum',\n",
    "            order = 'descending'\n",
    "          ),\n",
    "        axis = alt.Axis(title = '', labelAngle = -45)\n",
    "    )\n",
    ").properties(title = 'Week 1: Yards Per Catch for Tight Ends')"
   ]
  },
  {
   "cell_type": "code",
   "execution_count": 39,
   "metadata": {},
   "outputs": [
    {
     "data": {
      "application/vnd.vegalite.v3+json": {
       "$schema": "https://vega.github.io/schema/vega-lite/v3.4.0.json",
       "config": {
        "background": "white",
        "mark": {
         "tooltip": null
        },
        "view": {
         "height": 300,
         "width": 400
        }
       },
       "data": {
        "name": "data-768a41c4bdd92ec3d79100caed7b7d46"
       },
       "datasets": {
        "data-768a41c4bdd92ec3d79100caed7b7d46": [
         {
          "FantasyPoints": 23.1,
          "Player": "Evan Engram",
          "ReceivingYards": 116,
          "Receptions": 11,
          "Targets": 14,
          "Team": "NYG",
          "YPC": 10.545454545454545
         },
         {
          "FantasyPoints": 22.1,
          "Player": "T.J. Hockenson",
          "ReceivingYards": 131,
          "Receptions": 6,
          "Targets": 9,
          "Team": "DET",
          "YPC": 21.833333333333332
         },
         {
          "FantasyPoints": 20.8,
          "Player": "Mark Andrews",
          "ReceivingYards": 108,
          "Receptions": 8,
          "Targets": 8,
          "Team": "BAL",
          "YPC": 13.5
         },
         {
          "FantasyPoints": 20,
          "Player": "Delanie Walker",
          "ReceivingYards": 55,
          "Receptions": 5,
          "Targets": 6,
          "Team": "TEN",
          "YPC": 11
         },
         {
          "FantasyPoints": 13.9,
          "Player": "Vernon Davis",
          "ReceivingYards": 59,
          "Receptions": 4,
          "Targets": 7,
          "Team": "WAS",
          "YPC": 14.75
         },
         {
          "FantasyPoints": 12.2,
          "Player": "Austin Hooper",
          "ReceivingYards": 77,
          "Receptions": 9,
          "Targets": 9,
          "Team": "ATL",
          "YPC": 8.555555555555555
         },
         {
          "FantasyPoints": 11.7,
          "Player": "David Njoku",
          "ReceivingYards": 37,
          "Receptions": 4,
          "Targets": 6,
          "Team": "CLE",
          "YPC": 9.25
         },
         {
          "FantasyPoints": 11.4,
          "Player": "Blake Jarwin",
          "ReceivingYards": 39,
          "Receptions": 3,
          "Targets": 3,
          "Team": "DAL",
          "YPC": 13
         },
         {
          "FantasyPoints": 10.5,
          "Player": "Jimmy Graham",
          "ReceivingYards": 30,
          "Receptions": 3,
          "Targets": 6,
          "Team": "GB",
          "YPC": 10
         },
         {
          "FantasyPoints": 10.5,
          "Player": "Darren Waller",
          "ReceivingYards": 70,
          "Receptions": 7,
          "Targets": 8,
          "Team": "OAK",
          "YPC": 10
         },
         {
          "FantasyPoints": 10.3,
          "Player": "Travis Kelce",
          "ReceivingYards": 88,
          "Receptions": 3,
          "Targets": 8,
          "Team": "KC",
          "YPC": 29.333333333333332
         },
         {
          "FantasyPoints": 10,
          "Player": "Tyler Higbee",
          "ReceivingYards": 20,
          "Receptions": 4,
          "Targets": 5,
          "Team": "LAR",
          "YPC": 5
         },
         {
          "FantasyPoints": 9.4,
          "Player": "George Kittle",
          "ReceivingYards": 54,
          "Receptions": 8,
          "Targets": 10,
          "Team": "SF",
          "YPC": 6.75
         },
         {
          "FantasyPoints": 9,
          "Player": "Jason Witten",
          "ReceivingYards": 15,
          "Receptions": 3,
          "Targets": 4,
          "Team": "DAL",
          "YPC": 5
         },
         {
          "FantasyPoints": 8.6,
          "Player": "C.J. Uzomah",
          "ReceivingYards": 66,
          "Receptions": 4,
          "Targets": 5,
          "Team": "CIN",
          "YPC": 16.5
         },
         {
          "FantasyPoints": 8,
          "Player": "Hunter Henry",
          "ReceivingYards": 60,
          "Receptions": 4,
          "Targets": 5,
          "Team": "LAC",
          "YPC": 15
         },
         {
          "FantasyPoints": 7.9,
          "Player": "Zach Ertz",
          "ReceivingYards": 54,
          "Receptions": 5,
          "Targets": 7,
          "Team": "PHI",
          "YPC": 10.8
         },
         {
          "FantasyPoints": 5.6,
          "Player": "Hayden Hurst",
          "ReceivingYards": 41,
          "Receptions": 3,
          "Targets": 4,
          "Team": "BAL",
          "YPC": 13.666666666666666
         },
         {
          "FantasyPoints": 5.6,
          "Player": "Greg Olsen",
          "ReceivingYards": 36,
          "Receptions": 4,
          "Targets": 9,
          "Team": "CAR",
          "YPC": 9
         },
         {
          "FantasyPoints": 5.2,
          "Player": "Tyler Eifert",
          "ReceivingYards": 27,
          "Receptions": 5,
          "Targets": 6,
          "Team": "CIN",
          "YPC": 5.4
         },
         {
          "FantasyPoints": 5.2,
          "Player": "O.J. Howard",
          "ReceivingYards": 32,
          "Receptions": 4,
          "Targets": 5,
          "Team": "TB",
          "YPC": 8
         },
         {
          "FantasyPoints": 5.2,
          "Player": "James O'Shaughnessy",
          "ReceivingYards": 32,
          "Receptions": 4,
          "Targets": 5,
          "Team": "JAC",
          "YPC": 8
         },
         {
          "FantasyPoints": 5,
          "Player": "Vance McDonald",
          "ReceivingYards": 40,
          "Receptions": 2,
          "Targets": 4,
          "Team": "PIT",
          "YPC": 20
         },
         {
          "FantasyPoints": 4.7,
          "Player": "Jared Cook",
          "ReceivingYards": 37,
          "Receptions": 2,
          "Targets": 3,
          "Team": "NO",
          "YPC": 18.5
         },
         {
          "FantasyPoints": 4.5,
          "Player": "Tommy Sweeney",
          "ReceivingYards": 35,
          "Receptions": 2,
          "Targets": 2,
          "Team": "BUF",
          "YPC": 17.5
         },
         {
          "FantasyPoints": 4.1,
          "Player": "Nick Boyle",
          "ReceivingYards": 26,
          "Receptions": 3,
          "Targets": 3,
          "Team": "BAL",
          "YPC": 8.666666666666666
         },
         {
          "FantasyPoints": 4.1,
          "Player": "Mike Gesicki",
          "ReceivingYards": 31,
          "Receptions": 2,
          "Targets": 6,
          "Team": "MIA",
          "YPC": 15.5
         },
         {
          "FantasyPoints": 3.7,
          "Player": "Geoff Swaim",
          "ReceivingYards": 17,
          "Receptions": 4,
          "Targets": 4,
          "Team": "JAC",
          "YPC": 4.25
         },
         {
          "FantasyPoints": 3.4,
          "Player": "Noah Fant",
          "ReceivingYards": 29,
          "Receptions": 2,
          "Targets": 5,
          "Team": "DEN",
          "YPC": 14.5
         },
         {
          "FantasyPoints": 3.3,
          "Player": "Robert Tonyan",
          "ReceivingYards": 28,
          "Receptions": 1,
          "Targets": 1,
          "Team": "GB",
          "YPC": 28
         },
         {
          "FantasyPoints": 3,
          "Player": "Foster Moreau",
          "ReceivingYards": 20,
          "Receptions": 2,
          "Targets": 2,
          "Team": "OAK",
          "YPC": 10
         },
         {
          "FantasyPoints": 2.6,
          "Player": "Dallas Goedert",
          "ReceivingYards": 16,
          "Receptions": 2,
          "Targets": 3,
          "Team": "PHI",
          "YPC": 8
         },
         {
          "FantasyPoints": 2.6,
          "Player": "Nick Vannett",
          "ReceivingYards": 16,
          "Receptions": 2,
          "Targets": 2,
          "Team": "SEA",
          "YPC": 8
         },
         {
          "FantasyPoints": 2.5,
          "Player": "Jack Doyle",
          "ReceivingYards": 20,
          "Receptions": 1,
          "Targets": 2,
          "Team": "IND",
          "YPC": 20
         },
         {
          "FantasyPoints": 2.5,
          "Player": "Ryan Griffin",
          "ReceivingYards": 10,
          "Receptions": 3,
          "Targets": 4,
          "Team": "NYJ",
          "YPC": 3.3333333333333335
         },
         {
          "FantasyPoints": 2.4,
          "Player": "Marcedes Lewis",
          "ReceivingYards": 14,
          "Receptions": 2,
          "Targets": 3,
          "Team": "GB",
          "YPC": 7
         },
         {
          "FantasyPoints": 2.2,
          "Player": "Jordan Akins",
          "ReceivingYards": 17,
          "Receptions": 1,
          "Targets": 2,
          "Team": "HOU",
          "YPC": 17
         },
         {
          "FantasyPoints": 2.2,
          "Player": "Jonnu Smith",
          "ReceivingYards": 7,
          "Receptions": 1,
          "Targets": 1,
          "Team": "TEN",
          "YPC": 7
         },
         {
          "FantasyPoints": 2,
          "Player": "Jesse James",
          "ReceivingYards": 15,
          "Receptions": 1,
          "Targets": 1,
          "Team": "DET",
          "YPC": 15
         },
         {
          "FantasyPoints": 2,
          "Player": "Maxx Williams",
          "ReceivingYards": 15,
          "Receptions": 1,
          "Targets": 1,
          "Team": "ARI",
          "YPC": 15
         },
         {
          "FantasyPoints": 1.8,
          "Player": "Cameron Brate",
          "ReceivingYards": 8,
          "Receptions": 2,
          "Targets": 2,
          "Team": "TB",
          "YPC": 4
         },
         {
          "FantasyPoints": 1.7,
          "Player": "Will Dissly",
          "ReceivingYards": 12,
          "Receptions": 1,
          "Targets": 2,
          "Team": "SEA",
          "YPC": 12
         },
         {
          "FantasyPoints": 1.3,
          "Player": "Eric Ebron",
          "ReceivingYards": 8,
          "Receptions": 1,
          "Targets": 3,
          "Team": "IND",
          "YPC": 8
         },
         {
          "FantasyPoints": 1.3,
          "Player": "Rhett Ellison",
          "ReceivingYards": 8,
          "Receptions": 1,
          "Targets": 2,
          "Team": "NYG",
          "YPC": 8
         },
         {
          "FantasyPoints": 1.3,
          "Player": "Jeremy Sprinkle",
          "ReceivingYards": 8,
          "Receptions": 1,
          "Targets": 1,
          "Team": "WAS",
          "YPC": 8
         },
         {
          "FantasyPoints": 1.2,
          "Player": "Blake Bell",
          "ReceivingYards": 7,
          "Receptions": 1,
          "Targets": 1,
          "Team": "KC",
          "YPC": 7
         },
         {
          "FantasyPoints": 1.2,
          "Player": "Gerald Everett",
          "ReceivingYards": 7,
          "Receptions": 1,
          "Targets": 1,
          "Team": "LAR",
          "YPC": 7
         },
         {
          "FantasyPoints": 1.1,
          "Player": "Adam Shaheen",
          "ReceivingYards": 6,
          "Receptions": 1,
          "Targets": 2,
          "Team": "CHI",
          "YPC": 6
         },
         {
          "FantasyPoints": 1,
          "Player": "Charles Clay",
          "ReceivingYards": 5,
          "Receptions": 1,
          "Targets": 1,
          "Team": "ARI",
          "YPC": 5
         },
         {
          "FantasyPoints": 0.9,
          "Player": "Virgil Green",
          "ReceivingYards": 4,
          "Receptions": 1,
          "Targets": 1,
          "Team": "LAC",
          "YPC": 4
         },
         {
          "FantasyPoints": 0.8,
          "Player": "Mo Alie-Cox",
          "ReceivingYards": 3,
          "Receptions": 1,
          "Targets": 1,
          "Team": "IND",
          "YPC": 3
         },
         {
          "FantasyPoints": 0.8,
          "Player": "Ryan Izzo",
          "ReceivingYards": 3,
          "Receptions": 1,
          "Targets": 2,
          "Team": "NE",
          "YPC": 3
         },
         {
          "FantasyPoints": 0.6,
          "Player": "Dawson Knox",
          "ReceivingYards": 1,
          "Receptions": 1,
          "Targets": 2,
          "Team": "BUF",
          "YPC": 1
         }
        ]
       },
       "encoding": {
        "x": {
         "axis": {
          "labelAngle": -45,
          "title": ""
         },
         "field": "Player",
         "sort": {
          "field": "YPC",
          "op": "sum",
          "order": "descending"
         },
         "type": "nominal"
        },
        "y": {
         "axis": {
          "title": "Yards Per Catch"
         },
         "field": "YPC",
         "type": "quantitative"
        }
       },
       "mark": "bar",
       "title": "Week 1: Yards Per Catch for Tight Ends"
      },
      "image/png": "[encoded data removed]",
      "text/plain": [
       "<VegaLite 3 object>\n",
       "\n",
       "If you see this message, it means the renderer has not been properly enabled\n",
       "for the frontend that you are using. For more information, see\n",
       "https://altair-viz.github.io/user_guide/troubleshooting.html\n"
      ]
     },
     "execution_count": 39,
     "metadata": {},
     "output_type": "execute_result"
    }
   ],
   "source": [
    "chart"
   ]
  },
  {
   "cell_type": "code",
   "execution_count": 40,
   "metadata": {},
   "outputs": [],
   "source": [
    "chart.save(PATH + 'plots/TE_YPC_plain.png', scale_factor=3.0)"
   ]
  }
 ],
 "metadata": {
  "kernelspec": {
   "display_name": "Python 3",
   "language": "python",
   "name": "python3"
  },
  "language_info": {
   "codemirror_mode": {
    "name": "ipython",
    "version": 3
   },
   "file_extension": ".py",
   "mimetype": "text/x-python",
   "name": "python",
   "nbconvert_exporter": "python",
   "pygments_lexer": "ipython3",
   "version": "3.7.0"
  }
 },
 "nbformat": 4,
 "nbformat_minor": 4
}
